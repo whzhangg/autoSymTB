{
 "cells": [
  {
   "cell_type": "code",
   "execution_count": null,
   "metadata": {},
   "outputs": [],
   "source": [
    "from automaticTB.plotting.wavefunctions import radial_function\n",
    "import numpy as np\n",
    "\n",
    "filename = \"radial_part.pdf\"\n",
    "import matplotlib.pyplot as plt\n",
    "x = np.linspace(0.0, 10.0, 10000)\n",
    "    \n",
    "fig = plt.figure()\n",
    "axes = fig.subplots()\n",
    "                \n",
    "axes.set_xlabel(\"r\")\n",
    "axes.set_ylabel(\"Radial Functions\")\n",
    "        \n",
    "axes.set_xlim(0,10.0)\n",
    "#axes.set_yscale(\"log\")\n",
    "for n in range(1, 6):\n",
    "    y = radial_function(n, x)\n",
    "    axes.plot(x, y, label = f\"n = {n}\")\n",
    "axes.legend(frameon = False)\n",
    "\n",
    "print(\"Radial Function: their respect value as a function of radius\")\n"
   ]
  }
 ],
 "metadata": {
  "interpreter": {
   "hash": "88a9e8395f0f0fd1451bd78b9af03df8d3805846dd70fd93cef660c5127693da"
  },
  "kernelspec": {
   "display_name": "Python 3.8.5 ('pymat')",
   "language": "python",
   "name": "python3"
  },
  "language_info": {
   "codemirror_mode": {
    "name": "ipython",
    "version": 3
   },
   "file_extension": ".py",
   "mimetype": "text/x-python",
   "name": "python",
   "nbconvert_exporter": "python",
   "pygments_lexer": "ipython3",
   "version": "3.8.5"
  },
  "orig_nbformat": 4
 },
 "nbformat": 4,
 "nbformat_minor": 2
}

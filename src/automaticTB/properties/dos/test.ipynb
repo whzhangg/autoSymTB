{
 "cells": [
  {
   "cell_type": "code",
   "execution_count": 17,
   "metadata": {},
   "outputs": [],
   "source": [
    "def argsort(e4):\n",
    "\n",
    "    if e4[0] < e4[1]:\n",
    "        part1_min = 0; part1_max = 1\n",
    "    else:\n",
    "        part1_min = 1; part1_max = 0\n",
    "    if e4[2] < e4[3]:\n",
    "        part2_min = 2; part2_max = 3\n",
    "    else:\n",
    "        part2_min = 3; part2_max = 2\n",
    "\n",
    "    if e4[part1_min] < e4[part2_min]:\n",
    "        ie1 = part1_min\n",
    "        left1 = part2_min\n",
    "    else:\n",
    "        ie1 = part2_min\n",
    "        left1 = part1_min\n",
    "            \n",
    "    if e4[part1_max] > e4[part2_max]:\n",
    "        ie4 = part1_max\n",
    "        left2 = part2_max\n",
    "    else:\n",
    "        ie4 = part2_max\n",
    "        left2 = part1_max\n",
    "\n",
    "    if e4[left1] < e4[left2]:\n",
    "        ie2 = left1\n",
    "        ie3 = left2\n",
    "    else:\n",
    "        ie2 = left2\n",
    "        ie3 = left1\n",
    "\n",
    "    return ie1, ie2, ie3, ie4\n",
    "\n",
    "import numpy as np\n",
    "\n",
    "for _ in range(1000):\n",
    "    test_data = np.random.choice(1000, 4)\n",
    "    i1,i2,i3,i4 = argsort(test_data)\n",
    "    assert test_data[i1] <= test_data[i2]\n",
    "    assert test_data[i2] <= test_data[i3]\n",
    "    assert test_data[i3] <= test_data[i4]\n"
   ]
  }
 ],
 "metadata": {
  "kernelspec": {
   "display_name": "autotb",
   "language": "python",
   "name": "python3"
  },
  "language_info": {
   "codemirror_mode": {
    "name": "ipython",
    "version": 3
   },
   "file_extension": ".py",
   "mimetype": "text/x-python",
   "name": "python",
   "nbconvert_exporter": "python",
   "pygments_lexer": "ipython3",
   "version": "3.8.13"
  },
  "orig_nbformat": 4
 },
 "nbformat": 4,
 "nbformat_minor": 2
}

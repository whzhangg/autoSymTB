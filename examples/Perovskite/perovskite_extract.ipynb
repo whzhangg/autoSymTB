{
 "cells": [
  {
   "cell_type": "code",
   "execution_count": null,
   "metadata": {},
   "outputs": [],
   "source": [
    "from automaticTB.interface import OrbitalPropertyRelationship\n",
    "import numpy as np\n",
    "\n",
    "relationship = OrbitalPropertyRelationship.from_file(\"perovskite_relationship.dat\")\n",
    "relationship.print_free_pairs()\n"
   ]
  },
  {
   "cell_type": "code",
   "execution_count": null,
   "metadata": {},
   "outputs": [],
   "source": [
    "cubic_paths_str = [ \n",
    "    \"M 0.5 0.5 0.0  R 0.5 0.5 0.5\",\n",
    "    \"R 0.5 0.5 0.5  G 0.0 0.0 0.0\",\n",
    "    \"G 0.0 0.0 0.0  X 0.5 0.0 0.0\",\n",
    "    \"X 0.5 0.0 0.0  M 0.5 0.5 0.0\",\n",
    "    \"M 0.5 0.5 0.0  G 0.0 0.0 0.0\"\n",
    "]\n",
    "\n",
    "values = np.array([\n",
    "       -9.21,   #1 > Pair: Pb-00      6s -> Pb-00      6s r = (  0.00,  0.00,  0.00)\n",
    "        2.39,   #2 > Pair: Pb-00     6px -> Pb-00     6px r = (  0.00,  0.00,  0.00)\n",
    "      -13.21,   #3 > Pair: Cl-03      3s -> Cl-03      3s r = (  0.00,  0.00,  0.00)\n",
    "       -2.16,   #4 > Pair: Cl-03     3px -> Cl-03     3px r = (  0.00,  0.00,  0.00)\n",
    "       -1.1,    #5 > Pair: Cl-03      3s -> Pb-00      6s r = (  0.00,  0.00,  2.84)\n",
    "       -0.6,    #6 > Pair: Cl-03      3s -> Pb-00     6pz r = (  0.00,  0.00,  2.84)\n",
    "       -1.25,   #7 > Pair: Cl-03     3pz -> Pb-00      6s r = (  0.00,  0.00,  2.84)\n",
    "       -3.5,    #8 > Pair: Cl-03     3pz -> Pb-00     6pz r = (  0.00,  0.00,  2.84)\n",
    "        0.8,    #9 > Pair: Cl-03     3px -> Pb-00     6px r = (  0.00,  0.00,  2.84)\n",
    "])\n",
    "\n",
    "model = relationship.get_ElectronicModel_from_free_parameters(free_Hijs = values)\n",
    "model.plot_bandstructure(\"perovskite_bandstructure\", cubic_paths_str)\n"
   ]
  }
 ],
 "metadata": {
  "interpreter": {
   "hash": "e8f1bdd73f2afe351e4765257bb7586be294b7994e57208a8f91478197f1d44e"
  },
  "kernelspec": {
   "display_name": "Python 3.8.13 ('autoTB')",
   "language": "python",
   "name": "python3"
  },
  "language_info": {
   "codemirror_mode": {
    "name": "ipython",
    "version": 3
   },
   "file_extension": ".py",
   "mimetype": "text/x-python",
   "name": "python",
   "nbconvert_exporter": "python",
   "pygments_lexer": "ipython3",
   "version": "3.8.13"
  },
  "orig_nbformat": 4
 },
 "nbformat": 4,
 "nbformat_minor": 2
}

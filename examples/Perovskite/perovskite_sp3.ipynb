{
 "cells": [
  {
   "cell_type": "code",
   "execution_count": null,
   "metadata": {},
   "outputs": [],
   "source": [
    "import typing\n",
    "from automaticTB.examples import get_perovskite_structure, get_interaction_values_from_list_AOpairs\n",
    "from automaticTB.functions import (\n",
    "    get_equationsystem_from_structure_orbital_dict\n",
    ")\n",
    "\n",
    "structure = get_perovskite_structure()\n",
    "combined_system = get_equationsystem_from_structure_orbital_dict(\n",
    "    structure, {\"Pb\":\"6s6p\", \"Cl\": \"3s3p\"}\n",
    ")\n",
    "\n",
    "free_AOpairs = combined_system.free_AOpairs\n",
    "for i, pair in enumerate(free_AOpairs):\n",
    "    print(f\"{i+1:>2d} \" + str(pair))"
   ]
  },
  {
   "cell_type": "code",
   "execution_count": null,
   "metadata": {},
   "outputs": [],
   "source": [
    "from automaticTB.functions import get_tbModel_from_structure_interactions_overlaps\n",
    "from automaticTB.printing import print_ao_pairs\n",
    "import numpy as np\n",
    "\n",
    "print_ao_pairs(structure, combined_system.free_AOpairs)\n",
    "\n",
    "hvalues = np.array([\n",
    "     -9.21,    # 1  > Pair: Pb-00      6s -> Pb-00      6s @ (  0.00,  0.00,  0.00)\n",
    "    -13.21,    # 2  > Pair: Cl-02      3s -> Cl-02      3s @ (  0.00,  0.00,  0.00)\n",
    "     -2.16,    # 3  > Pair: Cl-03     3pz -> Cl-03     3pz @ (  0.00,  0.00,  0.00)\n",
    "     -2.16,    # 4  > Pair: Cl-03     3px -> Cl-03     3px @ (  0.00,  0.00,  0.00)\n",
    "     -2.16,    # 5  > Pair: Cl-02     3py -> Cl-02     3py @ (  0.00,  0.00,  0.00)\n",
    "      2.39,    # 6  > Pair: Pb-00     6px -> Pb-00     6px @ (  0.00,  0.00,  0.00)\n",
    "    -13.21,    # 7  > Pair: Cl-01      3s -> Cl-01      3s @ (  0.00,  0.00,  0.00)\n",
    "      -1.1,    # 8  > Pair: Cl-03      3s -> Pb-00      6s @ (  0.00,  0.00,  2.84)\n",
    "      -0.6,    # 9  > Pair: Cl-03      3s -> Pb-00     6pz @ (  0.00,  0.00,  2.84)\n",
    "     -2.16,    #10  > Pair: Cl-02     3px -> Cl-02     3px @ (  0.00,  0.00,  0.00)\n",
    "     -1.25,    #11  > Pair: Cl-03     3pz -> Pb-00      6s @ (  0.00,  0.00,  2.84)\n",
    "     -2.16,    #12  > Pair: Cl-01     3pz -> Cl-01     3pz @ (  0.00,  0.00,  0.00)\n",
    "     -2.16,    #13  > Pair: Cl-01     3px -> Cl-01     3px @ (  0.00,  0.00,  0.00)\n",
    "      -3.5,    #14  > Pair: Cl-03     3pz -> Pb-00     6pz @ (  0.00,  0.00,  2.84)\n",
    "       0.8,    #15  > Pair: Cl-03     3px -> Pb-00     6px @ (  0.00,  0.00,  2.84)\n",
    "    -13.21,    #16  > Pair: Cl-03      3s -> Cl-03      3s @ (  0.00,  0.00,  0.00)\n",
    "])\n",
    "\n",
    "hvalues_ref = np.array(\n",
    "    get_interaction_values_from_list_AOpairs(\n",
    "        structure.cell, structure.positions, combined_system.free_AOpairs\n",
    "    )\n",
    ")\n",
    "assert np.allclose(hvalues, hvalues_ref) # ao interaction is correct\n",
    "\n",
    "solved_interaction = combined_system.solve_interactions_to_InteractionPairs(hvalues)\n",
    "perovskiet_TBmodel = get_tbModel_from_structure_interactions_overlaps(structure, solved_interaction)\n"
   ]
  },
  {
   "cell_type": "code",
   "execution_count": null,
   "metadata": {},
   "outputs": [],
   "source": [
    "from automaticTB.examples.kpaths import cubic_kpath\n",
    "from automaticTB.properties.bandstructure import BandStructureResult\n",
    "import os\n",
    "\n",
    "filename = \"HalidePerovskite.pdf\"\n",
    "\n",
    "print(\"Plot the bandstructure\")\n",
    "band_result = BandStructureResult.from_tightbinding_and_kpath(perovskiet_TBmodel, cubic_kpath)\n",
    "band_result.plot_data(filename)\n"
   ]
  }
 ],
 "metadata": {
  "interpreter": {
   "hash": "88a9e8395f0f0fd1451bd78b9af03df8d3805846dd70fd93cef660c5127693da"
  },
  "kernelspec": {
   "display_name": "Python 3.8.5 ('pymat')",
   "language": "python",
   "name": "python3"
  },
  "language_info": {
   "codemirror_mode": {
    "name": "ipython",
    "version": 3
   },
   "file_extension": ".py",
   "mimetype": "text/x-python",
   "name": "python",
   "nbconvert_exporter": "python",
   "pygments_lexer": "ipython3",
   "version": "3.8.13"
  },
  "orig_nbformat": 4
 },
 "nbformat": 4,
 "nbformat_minor": 2
}

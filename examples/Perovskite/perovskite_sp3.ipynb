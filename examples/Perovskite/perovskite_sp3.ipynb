{
 "cells": [
  {
   "cell_type": "code",
   "execution_count": null,
   "metadata": {},
   "outputs": [],
   "source": [
    "from automaticTB.examples import get_cif_filename_for\n",
    "from automaticTB.examples import get_interaction_values_from_list_AOpairs\n",
    "from automaticTB.functions import (\n",
    "    get_structure_from_cif_file,\n",
    "    get_EquationSystem_from_Structure\n",
    ")\n",
    "\n",
    "\n",
    "structure = get_structure_from_cif_file(\n",
    "    get_cif_filename_for(\"Perovskite\"),\n",
    "    {\"Pb\":\"6s6p\", \"Cl\": \"3s3p\"},\n",
    "    rcut = 3.0\n",
    ")\n",
    "\n",
    "combined_system = get_EquationSystem_from_Structure(structure, find_additional_symmetry=False)\n",
    "\n",
    "free_AOpairs = combined_system.free_AOpairs\n",
    "for i, pair in enumerate(free_AOpairs):\n",
    "    print(f\"{i+1:>2d} \" + str(pair))"
   ]
  },
  {
   "cell_type": "code",
   "execution_count": null,
   "metadata": {},
   "outputs": [],
   "source": [
    "from automaticTB.functions import get_tbModel_from_structure_interactions_overlaps\n",
    "import numpy as np\n",
    "\n",
    "values = np.array([\n",
    "     -9.21,    # 1  > Pair: Pb-00      6s -> Pb-00      6s r = (  0.00,  0.00,  0.00)\n",
    "      1.25,    # 2  > Pair: Pb-00      6s -> Cl-01     3px r = (  2.84,  0.00,  0.00)\n",
    "      0.8,     # 3  > Pair: Pb-00     6px -> Cl-02     3px r = (  0.00,  2.84,  0.00)\n",
    "      2.39,    # 4  > Pair: Pb-00     6px -> Pb-00     6px r = (  0.00,  0.00,  0.00)\n",
    "     -3.5,     # 5  > Pair: Pb-00     6px -> Cl-01     3px r = (  2.84,  0.00,  0.00)\n",
    "    -13.21,    # 6  > Pair: Cl-01      3s -> Cl-01      3s r = (  0.00,  0.00,  0.00)\n",
    "      -1.1,    # 7  > Pair: Pb-00      6s -> Cl-01      3s r = (  2.84,  0.00,  0.00)\n",
    "      0.6,     # 8  > Pair: Pb-00     6px -> Cl-01      3s r = (  2.84,  0.00,  0.00)\n",
    "     -2.16,    # 9  > Pair: Cl-01     3px -> Cl-01     3px r = (  0.00,  0.00,  0.00)\n",
    "])\n",
    "\n",
    "solved_interaction = combined_system.solve_interactions_to_InteractionPairs(values)\n",
    "tb = get_tbModel_from_structure_interactions_overlaps(structure, solved_interaction)\n"
   ]
  },
  {
   "cell_type": "code",
   "execution_count": null,
   "metadata": {},
   "outputs": [],
   "source": [
    "from automaticTB.examples.kpaths import cubic_kpath\n",
    "from automaticTB.properties.bandstructure import BandStructureResult\n",
    "import os\n",
    "\n",
    "filename = \"HalidePerovskite.pdf\"\n",
    "\n",
    "print(\"Plot the bandstructure\")\n",
    "band_result = BandStructureResult.from_tightbinding_and_kpath(tb, cubic_kpath)\n",
    "band_result.plot_data(filename)\n"
   ]
  }
 ],
 "metadata": {
  "interpreter": {
   "hash": "88a9e8395f0f0fd1451bd78b9af03df8d3805846dd70fd93cef660c5127693da"
  },
  "kernelspec": {
   "display_name": "Python 3.8.5 ('pymat')",
   "language": "python",
   "name": "python3"
  },
  "language_info": {
   "codemirror_mode": {
    "name": "ipython",
    "version": 3
   },
   "file_extension": ".py",
   "mimetype": "text/x-python",
   "name": "python",
   "nbconvert_exporter": "python",
   "pygments_lexer": "ipython3",
   "version": "3.8.13"
  },
  "orig_nbformat": 4
 },
 "nbformat": 4,
 "nbformat_minor": 2
}

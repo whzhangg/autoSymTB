{
 "cells": [
  {
   "cell_type": "code",
   "execution_count": null,
   "metadata": {},
   "outputs": [],
   "source": [
    "from automaticTB.examples import get_cif_filename_for\n",
    "from automaticTB.solve import (\n",
    "    get_structure_from_cif_file,\n",
    "    get_EquationSystem_from_Structure\n",
    ")\n",
    "from automaticTB.interface import OrbitalPropertyRelationship\n",
    "\n",
    "structure = get_structure_from_cif_file(\n",
    "    get_cif_filename_for(\"Perovskite\"),\n",
    "    {\"Pb\":\"6s6p\", \"Cl\": \"3s3p\"},\n",
    "    rcut = 3.0\n",
    ")\n",
    "\n",
    "combined_system = get_EquationSystem_from_Structure(structure, find_additional_symmetry=False)\n",
    "\n",
    "relationship = OrbitalPropertyRelationship.from_structure_combinedInteraction(\n",
    "    structure.cell, structure.positions, structure.types, combined_system\n",
    ")\n",
    "\n",
    "relationship.print_free_pairs()\n",
    "relationship.to_file(\"perovskite_relationship.dat\")"
   ]
  }
 ],
 "metadata": {
  "interpreter": {
   "hash": "e8f1bdd73f2afe351e4765257bb7586be294b7994e57208a8f91478197f1d44e"
  },
  "kernelspec": {
   "display_name": "Python 3.8.13 ('autoTB')",
   "language": "python",
   "name": "python3"
  },
  "language_info": {
   "codemirror_mode": {
    "name": "ipython",
    "version": 3
   },
   "file_extension": ".py",
   "mimetype": "text/x-python",
   "name": "python",
   "nbconvert_exporter": "python",
   "pygments_lexer": "ipython3",
   "version": "3.8.13"
  },
  "orig_nbformat": 4
 },
 "nbformat": 4,
 "nbformat_minor": 2
}

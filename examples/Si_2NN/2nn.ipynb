{
 "cells": [
  {
   "cell_type": "code",
   "execution_count": null,
   "metadata": {},
   "outputs": [],
   "source": [
    "import os \n",
    "from automaticTB.tools import read_yaml, write_yaml\n",
    "from automaticTB.solve.interaction import (\n",
    "    get_InteractingAOSubspaces_from_cluster, CombinedAOSubspaceInteraction\n",
    ")\n",
    "from automaticTB.examples import get_cif_filename_for\n",
    "from automaticTB.solve import (\n",
    "    get_structure_from_cif_file,\n",
    ")\n",
    "\n",
    "bulksi = get_structure_from_cif_file(\n",
    "    get_cif_filename_for(\"Si\"), {\"Si\":\"3s3p4s\"}, rcut = 3.9\n",
    ")\n",
    "temporary_folder = \"temporary\"\n",
    "all_iao = []\n",
    "for i, centered_cluster in enumerate(bulksi.centered_clusters):\n",
    "    temporary_file = os.path.join(temporary_folder, f\"2nn_tmp_{i+1}.yaml\")\n",
    "    if os.path.exists(temporary_file):\n",
    "        tmp_iao = read_yaml(temporary_file)\n",
    "    else:\n",
    "        tmp_iao = []\n",
    "        for ceq_cluster in centered_cluster.centered_equivalent_clusters:\n",
    "            ceq_cluster.set_symmetry(find_additional_symmetry = True)\n",
    "            tmp_iao += get_InteractingAOSubspaces_from_cluster(ceq_cluster)\n",
    "        write_yaml(tmp_iao, temporary_file)\n",
    "    all_iao += tmp_iao\n",
    "    \n",
    "combined = CombinedAOSubspaceInteraction(all_iao)\n",
    "\n",
    "free_aos = combined.free_AOpairs\n",
    "for i, free in enumerate(free_aos):\n",
    "    print(f\"{i+1:>2d} \" + str(free))"
   ]
  },
  {
   "cell_type": "code",
   "execution_count": null,
   "metadata": {},
   "outputs": [],
   "source": [
    "# prepare bandstructure plot\n",
    "from automaticTB.properties import UnitCell\n",
    "\n",
    "cell = UnitCell(bulksi.cell)\n",
    "path = cell.get_bandline(\n",
    "    [\"L   0.5   0.5  0.5  G  0.0   0.0  0.0\",\n",
    "     \"G   0.0   0.0  0.0  X  0.5   0.0  0.5\",\n",
    "     \"X   0.5   0.0  0.5  U  0.625 0.25 0.625\",\n",
    "     \"K 0.375 0.375 0.75  G  0.0   0.0  0.0\"]\n",
    ")"
   ]
  },
  {
   "cell_type": "code",
   "execution_count": null,
   "metadata": {},
   "outputs": [],
   "source": [
    "import numpy as np\n",
    "from automaticTB.properties import (\n",
    "    get_tbModel_from_structure_interactions_overlaps, BandStructureResult\n",
    ")\n",
    "\n",
    "values = np.array([\n",
    "    -4.81341,    # 1  > Pair: Si-00      3s -> Si-00      3s r = (  0.00,  0.00,  0.00)\n",
    "    0.00579/4,    # 2  > Pair: Si-00     3px -> Si-00      4s r = (  2.72,  2.72,  0.00)\n",
    "    0.00000,    # 3  > Pair: Si-00      4s -> Si-00      4s r = (  0.00, -2.72,  2.72)\n",
    "    1.77563,    # 4  > Pair: Si-00     3px -> Si-00     3px r = (  0.00,  0.00,  0.00)\n",
    "    5.61342,    # 5  > Pair: Si-00      4s -> Si-00      4s r = (  0.00,  0.00,  0.00)\n",
    "    -8.33255/4,    # 6  > Pair: Si-00      3s -> Si-01      3s r = (  1.36, -1.36,  1.36)\n",
    "    0.08002/4,    # 7  > Pair: Si-00      3s -> Si-00     3px r = (  2.72,  2.72,  0.00)\n",
    "    5.86140/4,    # 8  > Pair: Si-00      3s -> Si-01     3px r = (  1.36, -1.36,  1.36)\n",
    "    0.00000,    # 9  > Pair: Si-00      3s -> Si-01      4s r = (  1.36, -1.36,  1.36)\n",
    "    0.00000,    #10  > Pair: Si-00      3s -> Si-00      4s r = (  2.72,  2.72,  0.00)\n",
    "    -5.86140/4,    #11  > Pair: Si-00     3px -> Si-01      3s r = (  1.36, -1.36,  1.36)\n",
    "    5.29091/4,    #12  > Pair: Si-00     3px -> Si-01     3pz r = (  1.36, -1.36,  1.36)\n",
    "    1.69916/4,    #13  > Pair: Si-00     3px -> Si-01     3px r = (  1.36, -1.36,  1.36)\n",
    "    0.55067/4,    #14  > Pair: Si-00     3pz -> Si-00     3px r = (  2.72,  0.00,  2.72)\n",
    "    0.00762/4,    #15  > Pair: Si-00     3px -> Si-00     3px r = ( -2.72,  2.72,  0.00)\n",
    "    -4.88308/4,    #16  > Pair: Si-00     3px -> Si-01      4s r = (  1.36, -1.36,  1.36)\n",
    "    -0.10662/4,    #17  > Pair: Si-00     3px -> Si-00     3px r = (  0.00, -2.72,  2.72)\n",
    "    0.00000,    #18  > Pair: Si-00      4s -> Si-01      3s r = (  1.36, -1.36,  1.36)\n",
    "    4.88308/4,    #19  > Pair: Si-00      4s -> Si-01     3px r = (  1.36, -1.36,  1.36)\n",
    "    0.00000,    #20  > Pair: Si-00      4s -> Si-01      4s r = (  1.36, -1.36,  1.36)\n",
    "    0.01591/4,    #21  > Pair: Si-00      3s -> Si-00      3s r = (  0.00, -2.72,  2.72)\n",
    "])\n",
    "\n",
    "\n",
    "interaction_pairs = combined.solve_interactions_to_InteractionPairs(values)\n",
    "model = get_tbModel_from_structure_interactions_overlaps(bulksi, interaction_pairs)\n",
    "\n",
    "# reference for DFT calculated band structure: \n",
    "# http://lampx.tugraz.at/~hadley/ss1/semiconductors/silicon_bandstructure.php\n",
    "bandresult = BandStructureResult.from_tightbinding_and_kpath(model, path)\n",
    "tmp_filename = \"Si_2NN.pdf\"\n",
    "bandresult.plot_data(tmp_filename)\n"
   ]
  }
 ],
 "metadata": {
  "interpreter": {
   "hash": "9a0f9f624c01dfb7a81da94c534f9d4fa4bcdd0f98eda350afa7cbc9f7079b1c"
  },
  "kernelspec": {
   "display_name": "Python 3.10.4 ('coordenv')",
   "language": "python",
   "name": "python3"
  },
  "language_info": {
   "codemirror_mode": {
    "name": "ipython",
    "version": 3
   },
   "file_extension": ".py",
   "mimetype": "text/x-python",
   "name": "python",
   "nbconvert_exporter": "python",
   "pygments_lexer": "ipython3",
   "version": "3.8.13"
  },
  "orig_nbformat": 4
 },
 "nbformat": 4,
 "nbformat_minor": 2
}

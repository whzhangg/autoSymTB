{
 "cells": [
  {
   "cell_type": "code",
   "execution_count": null,
   "metadata": {},
   "outputs": [],
   "source": [
    "from automaticTB.examples import get_Si_structure_2NN\n",
    "import os \n",
    "from automaticTB.tools import read_yaml, write_yaml\n",
    "from automaticTB.interaction import (\n",
    "    get_InteractingAOSubspaces_from_cluster, CombinedAOSubspaceInteraction\n",
    ")\n",
    "\n",
    "bulksi = get_Si_structure_2NN()\n",
    "orbitals = {\"Si\":\"2s2p3s\"}\n",
    "all_interaction_pairs = []\n",
    "for i, cluster in enumerate(bulksi.nnclusters):\n",
    "    temporary_file = os.path.join(\"tmp_yaml\", f\"si_2nn_tmp_{i+1}.yaml\")\n",
    "    if os.path.exists(temporary_file):\n",
    "        iaosubspace = read_yaml(temporary_file)\n",
    "    else:\n",
    "        iaosubspace = get_InteractingAOSubspaces_from_cluster(cluster, orbitals)\n",
    "        write_yaml(iaosubspace, temporary_file)\n",
    "    all_interaction_pairs += iaosubspace\n",
    "\n",
    "combined = CombinedAOSubspaceInteraction(all_interaction_pairs)\n",
    "\n",
    "free_aos = combined.free_AOpairs\n",
    "for i, free in enumerate(free_aos):\n",
    "    print(f\"{i+1:>2d} \" + str(free))"
   ]
  }
 ],
 "metadata": {
  "language_info": {
   "name": "python"
  },
  "orig_nbformat": 4
 },
 "nbformat": 4,
 "nbformat_minor": 2
}

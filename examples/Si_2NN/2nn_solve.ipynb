{
 "cells": [
  {
   "cell_type": "code",
   "execution_count": null,
   "metadata": {},
   "outputs": [],
   "source": [
    "import os \n",
    "from automaticTB.tools import read_yaml, write_yaml\n",
    "from automaticTB.solve.interaction import (\n",
    "    get_InteractingAOSubspaces_from_cluster, CombinedAOSubspaceInteraction\n",
    ")\n",
    "from automaticTB.examples import get_cif_filename_for\n",
    "from automaticTB.solve import (\n",
    "    get_structure_from_cif_file,\n",
    ")\n",
    "from automaticTB.interface import OrbitalPropertyRelationship\n",
    "\n",
    "bulksi = get_structure_from_cif_file(\n",
    "    get_cif_filename_for(\"Si\"), {\"Si\":\"3s3p4s\"}, rcut = 3.9\n",
    ")\n",
    "temporary_folder = \"temporary\"\n",
    "all_iao = []\n",
    "for i, centered_cluster in enumerate(bulksi.centered_clusters):\n",
    "    temporary_file = os.path.join(temporary_folder, f\"2nn_tmp_{i+1}.yaml\")\n",
    "    if os.path.exists(temporary_file):\n",
    "        tmp_iao = read_yaml(temporary_file)\n",
    "    else:\n",
    "        tmp_iao = []\n",
    "        for ceq_cluster in centered_cluster.centered_equivalent_clusters:\n",
    "            ceq_cluster.set_symmetry(find_additional_symmetry = True)\n",
    "            tmp_iao += get_InteractingAOSubspaces_from_cluster(ceq_cluster)\n",
    "        write_yaml(tmp_iao, temporary_file)\n",
    "    all_iao += tmp_iao\n",
    "    \n",
    "combined = CombinedAOSubspaceInteraction(all_iao)\n",
    "\n",
    "relationship = OrbitalPropertyRelationship.from_structure_combinedInteraction(bulksi, combined)\n",
    "relationship.print_free_pairs()\n",
    "\n",
    "relationship.to_file(\"Si_2nn_relationship.dat\")"
   ]
  }
 ],
 "metadata": {
  "interpreter": {
   "hash": "e8f1bdd73f2afe351e4765257bb7586be294b7994e57208a8f91478197f1d44e"
  },
  "kernelspec": {
   "display_name": "Python 3.8.13 ('autoTB')",
   "language": "python",
   "name": "python3"
  },
  "language_info": {
   "codemirror_mode": {
    "name": "ipython",
    "version": 3
   },
   "file_extension": ".py",
   "mimetype": "text/x-python",
   "name": "python",
   "nbconvert_exporter": "python",
   "pygments_lexer": "ipython3",
   "version": "3.8.13"
  },
  "orig_nbformat": 4
 },
 "nbformat": 4,
 "nbformat_minor": 2
}

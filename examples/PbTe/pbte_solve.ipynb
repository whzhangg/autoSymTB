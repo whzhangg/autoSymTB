{
 "cells": [
  {
   "cell_type": "code",
   "execution_count": 2,
   "metadata": {},
   "outputs": [],
   "source": [
    "datafile = \"PbTe_relationship.dat\"\n",
    "from automaticTB.examples import get_cif_filename_for\n",
    "pbte_cif_file = get_cif_filename_for(\"PbTe\")"
   ]
  },
  {
   "cell_type": "code",
   "execution_count": 3,
   "metadata": {},
   "outputs": [
    {
     "name": "stdout",
     "output_type": "stream",
     "text": [
      "  1 > Pair: Pb-00      6s -> Pb-00      6s r = (  0.00,  0.00,  0.00)\n",
      "  2 > Pair: Pb-00     6px -> Pb-00     6px r = (  0.00,  0.00,  0.00)\n",
      "  3 > Pair: Te-01      5s -> Te-01      5s r = (  0.00,  0.00,  0.00)\n",
      "  4 > Pair: Te-01     5px -> Te-01     5px r = (  0.00,  0.00,  0.00)\n",
      "  5 > Pair: Pb-00      6s -> Pb-00      6s r = (  3.23,  3.23,  0.00)\n",
      "  6 > Pair: Pb-00     6px -> Pb-00      6s r = (  3.23,  3.23,  0.00)\n",
      "  7 > Pair: Pb-00     6px -> Pb-00     6px r = (  0.00,  3.23,  3.23)\n",
      "  8 > Pair: Pb-00     6px -> Pb-00     6py r = (  3.23,  3.23,  0.00)\n",
      "  9 > Pair: Pb-00     6px -> Pb-00     6px r = (  3.23,  3.23,  0.00)\n",
      " 10 > Pair: Te-01      5s -> Pb-00      6s r = (  3.23,  0.00,  0.00)\n",
      " 11 > Pair: Te-01      5s -> Pb-00     6px r = (  3.23,  0.00,  0.00)\n",
      " 12 > Pair: Te-01     5px -> Pb-00      6s r = (  3.23,  0.00,  0.00)\n",
      " 13 > Pair: Te-01     5px -> Pb-00     6px r = (  0.00,  3.23,  0.00)\n",
      " 14 > Pair: Te-01     5px -> Pb-00     6px r = (  3.23,  0.00,  0.00)\n",
      " 15 > Pair: Te-01      5s -> Te-01      5s r = (  3.23,  3.23,  0.00)\n",
      " 16 > Pair: Te-01     5px -> Te-01      5s r = (  3.23,  3.23,  0.00)\n",
      " 17 > Pair: Te-01     5px -> Te-01     5px r = (  0.00,  3.23,  3.23)\n",
      " 18 > Pair: Te-01     5px -> Te-01     5py r = (  3.23,  3.23,  0.00)\n",
      " 19 > Pair: Te-01     5px -> Te-01     5px r = (  3.23,  3.23,  0.00)\n"
     ]
    }
   ],
   "source": [
    "import os, numpy as np\n",
    "from automaticTB.solve import (\n",
    "    get_structure_from_cif_file, \n",
    "    get_InteractingAOSubspaces_from_cluster\n",
    ")\n",
    "from automaticTB.tools import read_yaml, write_yaml\n",
    "from automaticTB.solve.interaction import CombinedAOSubspaceInteraction\n",
    "from automaticTB.interface import OrbitalPropertyRelationship\n",
    "\n",
    "PbTe = get_structure_from_cif_file(\n",
    "    pbte_cif_file, {\"Pb\":\"6s6p\", \"Te\": \"5s5p\"},\n",
    "    rcut = 4.7\n",
    ")\n",
    "\n",
    "temporary_folder = \"temporary\"\n",
    "all_iao = []\n",
    "for i, centered_cluster in enumerate(PbTe.centered_clusters):\n",
    "    temporary_file = os.path.join(temporary_folder, f\"2nn_tmp_{i+1}.yaml\")\n",
    "    if os.path.exists(temporary_file):\n",
    "        tmp_iao = read_yaml(temporary_file)\n",
    "    else:\n",
    "        tmp_iao = []\n",
    "        for ceq_cluster in centered_cluster.centered_equivalent_clusters:\n",
    "            ceq_cluster.set_symmetry(find_additional_symmetry = True)\n",
    "            tmp_iao += get_InteractingAOSubspaces_from_cluster(ceq_cluster)\n",
    "        write_yaml(tmp_iao, temporary_file)\n",
    "    all_iao += tmp_iao\n",
    "    \n",
    "combined = CombinedAOSubspaceInteraction(all_iao)\n",
    "\n",
    "relationship = OrbitalPropertyRelationship.from_structure_combinedInteraction(\n",
    "    PbTe, combined\n",
    ")\n",
    "\n",
    "relationship.print_free_pairs()\n",
    "relationship.to_file(datafile)\n",
    "print(f\"data file write to file {datafile}\")"
   ]
  }
 ],
 "metadata": {
  "interpreter": {
   "hash": "e8f1bdd73f2afe351e4765257bb7586be294b7994e57208a8f91478197f1d44e"
  },
  "kernelspec": {
   "display_name": "Python 3.8.13 ('autoTB')",
   "language": "python",
   "name": "python3"
  },
  "language_info": {
   "codemirror_mode": {
    "name": "ipython",
    "version": 3
   },
   "file_extension": ".py",
   "mimetype": "text/x-python",
   "name": "python",
   "nbconvert_exporter": "python",
   "pygments_lexer": "ipython3",
   "version": "3.8.13"
  },
  "orig_nbformat": 4
 },
 "nbformat": 4,
 "nbformat_minor": 2
}

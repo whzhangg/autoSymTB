{
 "cells": [
  {
   "cell_type": "markdown",
   "metadata": {},
   "source": [
    "## Example of AH3 molecular\n",
    "### Outline\n",
    "In this example, we use the codebase to solve the orbital interaction in AH3 molecular. It's molecular structure is given by `automaticTB.examples.structures.AH3` where a carbon atom is used as A with $2s$ and $2p$ orbitals. \n",
    "\n",
    "The result is given in Section 4.8 of Albright's book *Orbital Interactions in Chemistry*. To arrive at the result, we first obtain all the symmetry adapted linear combination:\n",
    "\n",
    "### Finding the symmetry adopted linear combination (SALCs)\n",
    "Since we have in total 7 starting atomic orbital, we arrive at 7 linear combination in total with representation: $2\\times A'$, $1\\times A''$, $2\\times E'$, furthermore, each subspace of the $E'$ representation are separated into symmetric and anti-symmetric components $A$ and $B$. Interaction is only allowed for linear combinations having the same symmetric properties. "
   ]
  },
  {
   "cell_type": "code",
   "execution_count": null,
   "metadata": {},
   "outputs": [],
   "source": [
    "from automaticTB.solve.structure import LocalSite, CrystalSite, CenteredEquivalentCluster\n",
    "from automaticTB.solve.sitesymmetry import get_point_group_as_SiteSymmetryGroup\n",
    "import numpy as np\n",
    "\n",
    "group = get_point_group_as_SiteSymmetryGroup(\"-6m2\")\n",
    "w = np.sqrt(3) / 2\n",
    "\n",
    "center_crystalsite = CrystalSite(\n",
    "        site = LocalSite(6, np.array([0.0, 0.0, 0.0]) * 2.0),\n",
    "        absolute_position = np.array([0.0, 0.0, 0.0]) * 2.0,\n",
    "        index_pcell = 0, \n",
    "        equivalent_index = 0, \n",
    "        translation = np.zeros(3),\n",
    "        orbitals = \"2s2p\"\n",
    "    )\n",
    "other_crystalsites = [\n",
    "        CrystalSite(\n",
    "            site = LocalSite(1, np.array([0.0, 1.0, 0.0]) * 2.0),\n",
    "            absolute_position = np.array([0.0, 1.0, 0.0]) * 2.0,\n",
    "            index_pcell = 1, \n",
    "            equivalent_index = 1,\n",
    "            translation = np.zeros(3),\n",
    "            orbitals = \"1s\"\n",
    "        ),\n",
    "        CrystalSite(\n",
    "            site = LocalSite(1, np.array([  w,-0.5, 0.0]) * 2.0),\n",
    "            absolute_position = np.array([  w,-0.5, 0.0]) * 2.0,\n",
    "            index_pcell = 2, \n",
    "            equivalent_index = 1,\n",
    "            translation = np.zeros(3),\n",
    "            orbitals = \"1s\"\n",
    "        ),\n",
    "        CrystalSite(\n",
    "            site = LocalSite(1, np.array([-1 * w,-0.5, 0.0]) * 2.0),\n",
    "            absolute_position = np.array([-1 * w,-0.5, 0.0]) * 2.0,\n",
    "            index_pcell = 3, \n",
    "            equivalent_index = 1,\n",
    "            translation = np.zeros(3),\n",
    "            orbitals = \"1s\"\n",
    "        ),\n",
    "]\n",
    "\n",
    "ah3 = CenteredEquivalentCluster(\n",
    "    center_site=center_crystalsite,\n",
    "    neighbor_sites=other_crystalsites,\n",
    "    sitesymmetrygroup=group\n",
    ")"
   ]
  },
  {
   "cell_type": "code",
   "execution_count": null,
   "metadata": {},
   "outputs": [],
   "source": [
    "from automaticTB.solve.interaction import get_InteractingAOSubspaces_from_cluster\n",
    "\n",
    "interacting_ao_subspace = get_InteractingAOSubspaces_from_cluster(ah3)\n",
    "for subspace in interacting_ao_subspace:\n",
    "    print(subspace)\n",
    "\n",
    "H_1s_linear_combination = interacting_ao_subspace[0].r_subspace\n",
    "for nlc in H_1s_linear_combination.namedlcs:\n",
    "    print(nlc)"
   ]
  },
  {
   "cell_type": "markdown",
   "metadata": {},
   "source": [
    "### Plotting the linear combination\n",
    "To plot the symmetry adopted wavefunction, use the following function"
   ]
  },
  {
   "cell_type": "code",
   "execution_count": null,
   "metadata": {},
   "outputs": [],
   "source": [
    "from automaticTB.solve import plot_molecular_wavefunction_from_linear_combination\n",
    "\n",
    "print(\"Plotting Symmetry adopted Linear Combinations\")\n",
    "functions_to_plot = [\n",
    "    \"E_'->A_1 @ 1^th E_'\",  # oriented p orbitals\n",
    "]\n",
    "for nlc in H_1s_linear_combination.namedlcs:\n",
    "    if str(nlc.name) not in functions_to_plot: continue\n",
    "    filename = f\"{str(nlc.name)}.cube\"\n",
    "    plot_molecular_wavefunction_from_linear_combination(\n",
    "        nlc.lc, filename\n",
    "    )\n",
    "    print(f\"wavefunction plotted to {filename}\")"
   ]
  },
  {
   "cell_type": "markdown",
   "metadata": {},
   "source": [
    "### Finding the free interaction\n",
    "Between the 7 linear combinations, we have in total $7\\times 7$ interactions between the states. However, only 5 interaction is allowed. This offers a simplification if to understand the chemical interaction and solving of the energy eigenstates. "
   ]
  },
  {
   "cell_type": "code",
   "execution_count": null,
   "metadata": {},
   "outputs": [],
   "source": [
    "from automaticTB.solve.interaction import CombinedAOSubspaceInteraction\n",
    "\n",
    "combined_interaction = CombinedAOSubspaceInteraction(interacting_ao_subspace)\n",
    "for pair in combined_interaction.free_AOpairs:\n",
    "    print(pair)"
   ]
  }
 ],
 "metadata": {
  "interpreter": {
   "hash": "88a9e8395f0f0fd1451bd78b9af03df8d3805846dd70fd93cef660c5127693da"
  },
  "kernelspec": {
   "display_name": "Python 3.8.5 ('pymat')",
   "language": "python",
   "name": "python3"
  },
  "language_info": {
   "codemirror_mode": {
    "name": "ipython",
    "version": 3
   },
   "file_extension": ".py",
   "mimetype": "text/x-python",
   "name": "python",
   "nbconvert_exporter": "python",
   "pygments_lexer": "ipython3",
   "version": "3.8.13"
  },
  "orig_nbformat": 4
 },
 "nbformat": 4,
 "nbformat_minor": 2
}

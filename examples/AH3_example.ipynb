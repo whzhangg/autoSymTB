{
 "cells": [
  {
   "cell_type": "markdown",
   "metadata": {},
   "source": [
    "## Example of AH3 molecular\n",
    "### Outline\n",
    "In this example, we use the codebase to solve the orbital interaction in AH3 molecular. It's molecular structure is given by `automaticTB.examples.structures.AH3` where a carbon atom is used as A with $2s$ and $2p$ orbitals. \n",
    "\n",
    "The result is given in Section 4.8 of Albright's book *Orbital Interactions in Chemistry*. To arrive at the result, we first obtain all the symmetry adapted linear combination:\n",
    "\n",
    "### Finding the symmetry adopted linear combination (SALCs)\n",
    "Since we have in total 7 starting atomic orbital, we arrive at 7 linear combination in total with representation: $2\\times A'$, $1\\times A''$, $2\\times E'$, furthermore, each subspace of the $E'$ representation are separated into symmetric and anti-symmetric components $A$ and $B$. Interaction is only allowed for linear combinations having the same symmetric properties. "
   ]
  },
  {
   "cell_type": "code",
   "execution_count": null,
   "metadata": {},
   "outputs": [],
   "source": [
    "from automaticTB.functions import get_namedLCs_from_nncluster\n",
    "from automaticTB.examples import get_AH3_nncluster\n",
    "\n",
    "ah3 = get_AH3_nncluster()\n",
    "named_lcs = get_namedLCs_from_nncluster(ah3)\n",
    "\n",
    "print(\"Solving the symmetry adopted linear combinations ...\")\n",
    "for nlc in named_lcs:\n",
    "    print(nlc.name)\n",
    "    print(nlc.lc)\n",
    "\n",
    "print(\"\\nJOB DONE !\")"
   ]
  },
  {
   "cell_type": "markdown",
   "metadata": {},
   "source": [
    "### Plotting the linear combination\n",
    "To plot the symmetry adopted wavefunction, use the following function"
   ]
  },
  {
   "cell_type": "code",
   "execution_count": null,
   "metadata": {},
   "outputs": [],
   "source": [
    "from automaticTB.functions import plot_molecular_wavefunction_from_linear_combination\n",
    "\n",
    "print(\"Plotting Symmetry adopted Linear Combinations\")\n",
    "functions_to_plot = [\n",
    "    \"E_'->A_1 @ 1^th E_'\",  # oriented p orbitals\n",
    "    \"E_'->A_1 @ 2^th E_'\"   # the molecular orbitals combined from 3 s electron\n",
    "]\n",
    "for nlc in named_lcs:\n",
    "    if str(nlc.name) not in functions_to_plot: continue\n",
    "    filename = f\"{str(nlc.name)}.cube\"\n",
    "    plot_molecular_wavefunction_from_linear_combination(\n",
    "        nlc.lc, filename\n",
    "    )\n",
    "    print(f\"wavefunction plotted to {filename}\")"
   ]
  },
  {
   "cell_type": "markdown",
   "metadata": {},
   "source": [
    "### Finding the free interaction\n",
    "Between the 7 linear combinations, we have in total $7\\times 7$ interactions between the states. However, only 5 interaction is allowed. This offers a simplification if to understand the chemical interaction and solving of the energy eigenstates. "
   ]
  },
  {
   "cell_type": "code",
   "execution_count": null,
   "metadata": {},
   "outputs": [],
   "source": [
    "from automaticTB.functions import get_free_AOpairs_from_nncluster_and_namedLCs\n",
    "from automaticTB.printing import print_ao_pairs\n",
    "\n",
    "free_pairs = get_free_AOpairs_from_nncluster_and_namedLCs(\n",
    "    ah3, named_lcs\n",
    ")\n",
    "print_ao_pairs(ah3, free_pairs)"
   ]
  },
  {
   "cell_type": "markdown",
   "metadata": {},
   "source": [
    "### Eigenvalue of the molecular orbitals\n",
    "The following code provides the interaction energy between the symmetry adopted molecular orbitals and solves the final eigenenergy and the orbital degeneracy. In the MOlist, `s_px` stands for the combination of the s orbitals that has the same symmetry properties as the `px` orbitals. \n",
    "\n",
    "The important result is the degeneracy of the final eigen-states, which agree qualitatively with the molecular orbital diagram for in Albright's book mentioned previously."
   ]
  },
  {
   "cell_type": "code",
   "execution_count": null,
   "metadata": {},
   "outputs": [],
   "source": [
    "import numpy as np\n",
    "# Hamiltonian matrix in MO basis:\n",
    "Hij = np.zeros((7,7))\n",
    "MOlist = [\n",
    "        \"s\", # A_'_1 @ 1^th A_'_1\n",
    "        \"px\", # E_'->A_1 @ 1^th E_'\n",
    "        \"py\", # E_'->B_2 @ 1^th E_'\n",
    "        \"pz\", # A_''_2 @ 1^th A_''_2\n",
    "        \"s_s\", # A_'_1 @ 2^th A_'_1\n",
    "        \"s_px\", # E_'->A_1 @ 2^th E_'\n",
    "        \"s_py\" # E_'->B_2 @ 2^th E_'\n",
    "    ]\n",
    "\n",
    "interactions = {\n",
    "        \"s s\": -25,\n",
    "        \"px px\": -13, \"py py\": -13, \"pz pz\": -13,\n",
    "        \"s_s s_s\": -14,\n",
    "        \"s_px s_px\": -12, \"s_py s_py\": -12,\n",
    "        \"s s_s\": 3.0, \"s_s s\": 3.0,\n",
    "        \"px s_px\": 4.0, \"s_px px\": 4.0, \"py s_py\": 4.0, \"s_py py\": 4.0\n",
    "    }\n",
    "\n",
    "for i,mo1 in enumerate(MOlist):\n",
    "    for j,mo2 in enumerate(MOlist):\n",
    "        Hij[i,j] = interactions.setdefault(\" \".join([mo1,mo2]),0)\n",
    "\n",
    "print(\"The Molecular Hamiltonian in MO basis is:\")\n",
    "print(Hij)\n",
    "w, v = np.linalg.eig(Hij)\n",
    "print()\n",
    "print(\"Solved eigenvalues are:\")\n",
    "\n",
    "start = 0\n",
    "sortedW = sorted(w)\n",
    "for sw in sortedW:\n",
    "    print(f\"{sw:>8.2f}\")\n",
    "    "
   ]
  }
 ],
 "metadata": {
  "interpreter": {
   "hash": "88a9e8395f0f0fd1451bd78b9af03df8d3805846dd70fd93cef660c5127693da"
  },
  "kernelspec": {
   "display_name": "Python 3.8.5 ('pymat')",
   "language": "python",
   "name": "python3"
  },
  "language_info": {
   "codemirror_mode": {
    "name": "ipython",
    "version": 3
   },
   "file_extension": ".py",
   "mimetype": "text/x-python",
   "name": "python",
   "nbconvert_exporter": "python",
   "pygments_lexer": "ipython3",
   "version": "3.8.13"
  },
  "orig_nbformat": 4
 },
 "nbformat": 4,
 "nbformat_minor": 2
}

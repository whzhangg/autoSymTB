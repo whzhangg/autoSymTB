{
 "cells": [
  {
   "cell_type": "code",
   "execution_count": 1,
   "metadata": {},
   "outputs": [
    {
     "name": "stdout",
     "output_type": "stream",
     "text": [
      "Solving for AH3 molecular ...\n",
      "Symmetry adopted Linear combinations ...\n",
      "A_''_2 @ 1^th A_''_2\n",
      "└─  C @ (  0.00,  0.00,  0.00) :: +1.000(0 1 0)\n",
      "A_'_1 @ 1^th A_'_1\n",
      "└─  C @ (  0.00,  0.00,  0.00) :: +1.000(0 0 0)\n",
      "A_'_1 @ 2^th A_'_1\n",
      "├─  H @ (  0.00,  2.00,  0.00) :: +0.577(0 0 0)\n",
      "├─  H @ (  1.73, -1.00,  0.00) :: +0.577(0 0 0)\n",
      "└─  H @ ( -1.73, -1.00,  0.00) :: +0.577(0 0 0)\n",
      "E_'->A_1 @ 1^th E_'\n",
      "└─  C @ (  0.00,  0.00,  0.00) :: +0.500(0 1-1)+0.866(0 1 1)\n",
      "E_'->B_2 @ 1^th E_'\n",
      "└─  C @ (  0.00,  0.00,  0.00) :: -0.866(0 1-1)+0.500(0 1 1)\n",
      "E_'->A_1 @ 2^th E_'\n",
      "├─  H @ (  0.00,  2.00,  0.00) :: +0.408(0 0 0)\n",
      "├─  H @ (  1.73, -1.00,  0.00) :: +0.408(0 0 0)\n",
      "└─  H @ ( -1.73, -1.00,  0.00) :: -0.816(0 0 0)\n",
      "E_'->B_2 @ 2^th E_'\n",
      "├─  H @ (  0.00,  2.00,  0.00) :: -0.707(0 0 0)\n",
      "└─  H @ (  1.73, -1.00,  0.00) :: +0.707(0 0 0)\n",
      "Free interaction parameters: \n",
      "  1 > Free AO interaction: C 0s -> C 0s @ (  0.00,  0.00,  0.00)\n",
      "  2 > Free AO interaction: C 0s -> H 0s @ ( -1.73, -1.00,  0.00)\n",
      "  3 > Free AO interaction: C 0pz -> C 0pz @ (  0.00,  0.00,  0.00)\n",
      "  4 > Free AO interaction: C 0px -> C 0px @ (  0.00,  0.00,  0.00)\n",
      "  5 > Free AO interaction: C 0px -> H 0s @ ( -1.73, -1.00,  0.00)\n"
     ]
    }
   ],
   "source": [
    "from automaticTB.SALCs import VectorSpace, decompose_vectorspace_to_namedLC\n",
    "from automaticTB.interaction import InteractionEquation\n",
    "from automaticTB.examples.structures import get_AH3_nncluster\n",
    "from automaticTB.printing import print_ao_pairs\n",
    "\n",
    "print(\"Solving for AH3 molecular ...\")\n",
    "nncluster = get_AH3_nncluster()\n",
    "vectorspace = VectorSpace.from_NNCluster(nncluster)\n",
    "named_lcs = decompose_vectorspace_to_namedLC(vectorspace, nncluster.sitesymmetrygroup)\n",
    "\n",
    "print(\"Symmetry adopted Linear combinations ...\")\n",
    "for nlc in named_lcs:\n",
    "    print(nlc.name)\n",
    "    print(nlc.lc)\n",
    "    \n",
    "free_pairs = InteractionEquation.from_nncluster_namedLC(nncluster, named_lcs).free_AOpairs\n",
    "print_ao_pairs(nncluster, free_pairs)"
   ]
  },
  {
   "cell_type": "code",
   "execution_count": 2,
   "metadata": {},
   "outputs": [
    {
     "name": "stdout",
     "output_type": "stream",
     "text": [
      "The Molecular Hamiltonian in MO basis is:\n",
      "[[-25.   0.   0.   0.   3.   0.   0.]\n",
      " [  0. -13.   0.   0.   0.   4.   0.]\n",
      " [  0.   0. -13.   0.   0.   0.   4.]\n",
      " [  0.   0.   0. -13.   0.   0.   0.]\n",
      " [  3.   0.   0.   0. -14.   0.   0.]\n",
      " [  0.   4.   0.   0.   0. -12.   0.]\n",
      " [  0.   0.   4.   0.   0.   0. -12.]]\n",
      "\n",
      "Solved eigenvalues are:\n",
      "  -25.76  -16.53  -16.53\n",
      "  -13.24  -13.00   -8.47\n"
     ]
    }
   ],
   "source": [
    "import numpy as np\n",
    "# Hamiltonian matrix in MO basis:\n",
    "Hij = np.zeros((7,7))\n",
    "MOlist = [\n",
    "        \"s\", # A_'_1 @ 1^th A_'_1\n",
    "        \"px\", # E_'->A_1 @ 1^th E_'\n",
    "        \"py\", # E_'->B_2 @ 1^th E_'\n",
    "        \"pz\", # A_''_2 @ 1^th A_''_2\n",
    "        \"s_s\", # A_'_1 @ 2^th A_'_1\n",
    "        \"s_px\", # E_'->A_1 @ 2^th E_'\n",
    "        \"s_py\" # E_'->B_2 @ 2^th E_'\n",
    "    ]\n",
    "\n",
    "interactions = {\n",
    "        \"s s\": -25,\n",
    "        \"px px\": -13,\n",
    "        \"py py\": -13,\n",
    "        \"pz pz\": -13,\n",
    "        \"s_s s_s\": -14,\n",
    "        \"s_px s_px\": -12,\n",
    "        \"s_py s_py\": -12,\n",
    "        \"s s_s\": 3.0,\n",
    "        \"s_s s\": 3.0,\n",
    "        \"px s_px\": 4.0,\n",
    "        \"s_px px\": 4.0,\n",
    "        \"py s_py\": 4.0,\n",
    "        \"s_py py\": 4.0\n",
    "    }\n",
    "\n",
    "for i,mo1 in enumerate(MOlist):\n",
    "    for j,mo2 in enumerate(MOlist):\n",
    "        Hij[i,j] = interactions.setdefault(\" \".join([mo1,mo2]),0)\n",
    "\n",
    "print(\"The Molecular Hamiltonian in MO basis is:\")\n",
    "print(Hij)\n",
    "w, v = np.linalg.eig(Hij)\n",
    "print()\n",
    "print(\"Solved eigenvalues are:\")\n",
    "\n",
    "start = 0\n",
    "sortedW = sorted(w)\n",
    "while start + 3 <= len(w):\n",
    "    print(f\"{sortedW[start]:>8.2f}{sortedW[start+1]:>8.2f}{sortedW[start+2]:>8.2f}\")\n",
    "    start += 3\n",
    "    "
   ]
  },
  {
   "cell_type": "code",
   "execution_count": 3,
   "metadata": {},
   "outputs": [
    {
     "ename": "TypeError",
     "evalue": "type object argument after * must be an iterable, not int",
     "output_type": "error",
     "traceback": [
      "\u001b[0;31m---------------------------------------------------------------------------\u001b[0m",
      "\u001b[0;31mTypeError\u001b[0m                                 Traceback (most recent call last)",
      "\u001b[1;32m/Users/wenhao/work/phd/e3nn_application/autoTB/examples/AH3_example.ipynb Cell 2'\u001b[0m in \u001b[0;36m<cell line: 1>\u001b[0;34m()\u001b[0m\n\u001b[0;32m----> <a href='vscode-notebook-cell:/Users/wenhao/work/phd/e3nn_application/autoTB/examples/AH3_example.ipynb#ch0000001?line=0'>1</a>\u001b[0m \u001b[39mfrom\u001b[39;00m \u001b[39mautomaticTB\u001b[39;00m\u001b[39m.\u001b[39;00m\u001b[39mplotting\u001b[39;00m \u001b[39mimport\u001b[39;00m DensityCubePlot\n\u001b[1;32m      <a href='vscode-notebook-cell:/Users/wenhao/work/phd/e3nn_application/autoTB/examples/AH3_example.ipynb#ch0000001?line=2'>3</a>\u001b[0m \u001b[39mprint\u001b[39m(\u001b[39m\"\u001b[39m\u001b[39mPlot Symmetry adopted Linear Combinations\u001b[39m\u001b[39m\"\u001b[39m)\n\u001b[1;32m      <a href='vscode-notebook-cell:/Users/wenhao/work/phd/e3nn_application/autoTB/examples/AH3_example.ipynb#ch0000001?line=3'>4</a>\u001b[0m \u001b[39mfor\u001b[39;00m nlc \u001b[39min\u001b[39;00m named_lcs:\n",
      "File \u001b[0;32m~/work/phd/e3nn_application/autoTB/src/automaticTB/plotting/__init__.py:4\u001b[0m, in \u001b[0;36m<module>\u001b[0;34m\u001b[0m\n\u001b[1;32m      <a href='file:///~/work/phd/e3nn_application/autoTB/src/automaticTB/plotting/__init__.py?line=1'>2</a>\u001b[0m \u001b[39mfrom\u001b[39;00m \u001b[39m.\u001b[39;00m\u001b[39mdensity\u001b[39;00m \u001b[39mimport\u001b[39;00m DensityCubePlot\n\u001b[1;32m      <a href='file:///~/work/phd/e3nn_application/autoTB/src/automaticTB/plotting/__init__.py?line=2'>3</a>\u001b[0m \u001b[39m# this is not perticular good\u001b[39;00m\n\u001b[0;32m----> <a href='file:///~/work/phd/e3nn_application/autoTB/src/automaticTB/plotting/__init__.py?line=3'>4</a>\u001b[0m \u001b[39mfrom\u001b[39;00m \u001b[39m.\u001b[39;00m\u001b[39mplot_LC\u001b[39;00m \u001b[39mimport\u001b[39;00m make_plot_normalized_LC\n\u001b[1;32m      <a href='file:///~/work/phd/e3nn_application/autoTB/src/automaticTB/plotting/__init__.py?line=4'>5</a>\u001b[0m \u001b[39mfrom\u001b[39;00m \u001b[39m.\u001b[39;00m\u001b[39madaptor\u001b[39;00m \u001b[39mimport\u001b[39;00m Wavefunction, WavefunctionsOnSite, MolecularWavefunction\n",
      "File \u001b[0;32m~/work/phd/e3nn_application/autoTB/src/automaticTB/plotting/plot_LC.py:33\u001b[0m, in \u001b[0;36m<module>\u001b[0;34m\u001b[0m\n\u001b[1;32m     <a href='file:///~/work/phd/e3nn_application/autoTB/src/automaticTB/plotting/plot_LC.py?line=27'>28</a>\u001b[0m         computed_y_dict[ao] \u001b[39m=\u001b[39m y\n\u001b[1;32m     <a href='file:///~/work/phd/e3nn_application/autoTB/src/automaticTB/plotting/plot_LC.py?line=29'>30</a>\u001b[0m     \u001b[39mreturn\u001b[39;00m unit_vector, computed_y_dict\n\u001b[0;32m---> <a href='file:///~/work/phd/e3nn_application/autoTB/src/automaticTB/plotting/plot_LC.py?line=32'>33</a>\u001b[0m unit_vector, computed_y_dict \u001b[39m=\u001b[39m precompute_data()\n\u001b[1;32m     <a href='file:///~/work/phd/e3nn_application/autoTB/src/automaticTB/plotting/plot_LC.py?line=35'>36</a>\u001b[0m \u001b[39mdef\u001b[39;00m \u001b[39mon_site_xyz_color\u001b[39m(coefficient: np\u001b[39m.\u001b[39mndarray, orb: Orbitals, pos: np\u001b[39m.\u001b[39mndarray):\n\u001b[1;32m     <a href='file:///~/work/phd/e3nn_application/autoTB/src/automaticTB/plotting/plot_LC.py?line=36'>37</a>\u001b[0m     \u001b[39m# with coefficient\u001b[39;00m\n\u001b[1;32m     <a href='file:///~/work/phd/e3nn_application/autoTB/src/automaticTB/plotting/plot_LC.py?line=37'>38</a>\u001b[0m     y \u001b[39m=\u001b[39m np\u001b[39m.\u001b[39mzeros_like(computed_y_dict[orb\u001b[39m.\u001b[39msh_list[\u001b[39m0\u001b[39m]])\n",
      "File \u001b[0;32m~/work/phd/e3nn_application/autoTB/src/automaticTB/plotting/plot_LC.py:26\u001b[0m, in \u001b[0;36mprecompute_data\u001b[0;34m()\u001b[0m\n\u001b[1;32m     <a href='file:///~/work/phd/e3nn_application/autoTB/src/automaticTB/plotting/plot_LC.py?line=17'>18</a>\u001b[0m unit_vector \u001b[39m=\u001b[39m np\u001b[39m.\u001b[39marray([\n\u001b[1;32m     <a href='file:///~/work/phd/e3nn_application/autoTB/src/automaticTB/plotting/plot_LC.py?line=18'>19</a>\u001b[0m     np\u001b[39m.\u001b[39msin(phi) \u001b[39m*\u001b[39m np\u001b[39m.\u001b[39mcos(theta),\n\u001b[1;32m     <a href='file:///~/work/phd/e3nn_application/autoTB/src/automaticTB/plotting/plot_LC.py?line=19'>20</a>\u001b[0m     np\u001b[39m.\u001b[39msin(phi) \u001b[39m*\u001b[39m np\u001b[39m.\u001b[39msin(theta),\n\u001b[1;32m     <a href='file:///~/work/phd/e3nn_application/autoTB/src/automaticTB/plotting/plot_LC.py?line=20'>21</a>\u001b[0m     np\u001b[39m.\u001b[39mcos(phi)\n\u001b[1;32m     <a href='file:///~/work/phd/e3nn_application/autoTB/src/automaticTB/plotting/plot_LC.py?line=21'>22</a>\u001b[0m     ])\n\u001b[1;32m     <a href='file:///~/work/phd/e3nn_application/autoTB/src/automaticTB/plotting/plot_LC.py?line=23'>24</a>\u001b[0m computed_y_dict \u001b[39m=\u001b[39m {}\n\u001b[0;32m---> <a href='file:///~/work/phd/e3nn_application/autoTB/src/automaticTB/plotting/plot_LC.py?line=25'>26</a>\u001b[0m \u001b[39mfor\u001b[39;00m ao \u001b[39min\u001b[39;00m Orbitals([\u001b[39m0\u001b[39;49m,\u001b[39m1\u001b[39;49m,\u001b[39m2\u001b[39;49m])\u001b[39m.\u001b[39msh_list:\n\u001b[1;32m     <a href='file:///~/work/phd/e3nn_application/autoTB/src/automaticTB/plotting/plot_LC.py?line=26'>27</a>\u001b[0m     y \u001b[39m=\u001b[39m sh_functions(ao\u001b[39m.\u001b[39ml, ao\u001b[39m.\u001b[39mm, theta, phi)\n\u001b[1;32m     <a href='file:///~/work/phd/e3nn_application/autoTB/src/automaticTB/plotting/plot_LC.py?line=27'>28</a>\u001b[0m     computed_y_dict[ao] \u001b[39m=\u001b[39m y\n",
      "File \u001b[0;32m~/work/phd/e3nn_application/autoTB/src/automaticTB/atomic_orbitals.py:31\u001b[0m, in \u001b[0;36mOrbitals.__init__\u001b[0;34m(self, nl_list)\u001b[0m\n\u001b[1;32m     <a href='file:///~/work/phd/e3nn_application/autoTB/src/automaticTB/atomic_orbitals.py?line=28'>29</a>\u001b[0m \u001b[39mdef\u001b[39;00m \u001b[39m__init__\u001b[39m(\u001b[39mself\u001b[39m, nl_list: typing\u001b[39m.\u001b[39mList[typing\u001b[39m.\u001b[39mTuple[\u001b[39mint\u001b[39m,\u001b[39mint\u001b[39m]]) \u001b[39m-\u001b[39m\u001b[39m>\u001b[39m \u001b[39mNone\u001b[39;00m:\n\u001b[0;32m---> <a href='file:///~/work/phd/e3nn_application/autoTB/src/automaticTB/atomic_orbitals.py?line=30'>31</a>\u001b[0m     \u001b[39mself\u001b[39m\u001b[39m.\u001b[39m_nl_list: typing\u001b[39m.\u001b[39mList[NL] \u001b[39m=\u001b[39m [\n\u001b[1;32m     <a href='file:///~/work/phd/e3nn_application/autoTB/src/automaticTB/atomic_orbitals.py?line=31'>32</a>\u001b[0m         NL(\u001b[39m*\u001b[39mnl) \u001b[39mfor\u001b[39;00m nl \u001b[39min\u001b[39;00m nl_list\n\u001b[1;32m     <a href='file:///~/work/phd/e3nn_application/autoTB/src/automaticTB/atomic_orbitals.py?line=32'>33</a>\u001b[0m     ]\n",
      "File \u001b[0;32m~/work/phd/e3nn_application/autoTB/src/automaticTB/atomic_orbitals.py:32\u001b[0m, in \u001b[0;36m<listcomp>\u001b[0;34m(.0)\u001b[0m\n\u001b[1;32m     <a href='file:///~/work/phd/e3nn_application/autoTB/src/automaticTB/atomic_orbitals.py?line=28'>29</a>\u001b[0m \u001b[39mdef\u001b[39;00m \u001b[39m__init__\u001b[39m(\u001b[39mself\u001b[39m, nl_list: typing\u001b[39m.\u001b[39mList[typing\u001b[39m.\u001b[39mTuple[\u001b[39mint\u001b[39m,\u001b[39mint\u001b[39m]]) \u001b[39m-\u001b[39m\u001b[39m>\u001b[39m \u001b[39mNone\u001b[39;00m:\n\u001b[1;32m     <a href='file:///~/work/phd/e3nn_application/autoTB/src/automaticTB/atomic_orbitals.py?line=30'>31</a>\u001b[0m     \u001b[39mself\u001b[39m\u001b[39m.\u001b[39m_nl_list: typing\u001b[39m.\u001b[39mList[NL] \u001b[39m=\u001b[39m [\n\u001b[0;32m---> <a href='file:///~/work/phd/e3nn_application/autoTB/src/automaticTB/atomic_orbitals.py?line=31'>32</a>\u001b[0m         NL(\u001b[39m*\u001b[39;49mnl) \u001b[39mfor\u001b[39;00m nl \u001b[39min\u001b[39;00m nl_list\n\u001b[1;32m     <a href='file:///~/work/phd/e3nn_application/autoTB/src/automaticTB/atomic_orbitals.py?line=32'>33</a>\u001b[0m     ]\n",
      "\u001b[0;31mTypeError\u001b[0m: type object argument after * must be an iterable, not int"
     ]
    }
   ],
   "source": [
    "from automaticTB.plotting import DensityCubePlot\n",
    "\n",
    "print(\"Plot Symmetry adopted Linear Combinations\")\n",
    "for nlc in named_lcs:\n",
    "    plot = DensityCubePlot.from_linearcombinations([nlc.lc], quality=\"high\")\n",
    "    plot.plot_to_file(f\"{str(nlc.name)}.cube\")"
   ]
  }
 ],
 "metadata": {
  "interpreter": {
   "hash": "88a9e8395f0f0fd1451bd78b9af03df8d3805846dd70fd93cef660c5127693da"
  },
  "kernelspec": {
   "display_name": "Python 3.8.5 ('pymat')",
   "language": "python",
   "name": "python3"
  },
  "language_info": {
   "codemirror_mode": {
    "name": "ipython",
    "version": 3
   },
   "file_extension": ".py",
   "mimetype": "text/x-python",
   "name": "python",
   "nbconvert_exporter": "python",
   "pygments_lexer": "ipython3",
   "version": "3.8.5"
  },
  "orig_nbformat": 4
 },
 "nbformat": 4,
 "nbformat_minor": 2
}

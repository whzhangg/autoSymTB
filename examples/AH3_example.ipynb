{
 "cells": [
  {
   "cell_type": "code",
   "execution_count": null,
   "metadata": {},
   "outputs": [],
   "source": [
    "from automaticTB.SALCs import VectorSpace, decompose_vectorspace_to_namedLC\n",
    "from automaticTB.interaction import InteractionEquation\n",
    "from automaticTB.examples.structures import get_AH3_nncluster\n",
    "from automaticTB.printing import print_ao_pairs\n",
    "\n",
    "print(\"Solving for AH3 molecular ...\")\n",
    "nncluster = get_AH3_nncluster()\n",
    "vectorspace = VectorSpace.from_NNCluster(nncluster)\n",
    "named_lcs = decompose_vectorspace_to_namedLC(vectorspace, nncluster.sitesymmetrygroup)\n",
    "\n",
    "print(\"Symmetry adopted Linear combinations ...\")\n",
    "for nlc in named_lcs:\n",
    "    print(nlc.name)\n",
    "    print(nlc.lc)\n",
    "    \n",
    "free_pairs = InteractionEquation.from_nncluster_namedLC(nncluster, named_lcs).free_AOpairs\n",
    "print_ao_pairs(nncluster, free_pairs)"
   ]
  },
  {
   "cell_type": "code",
   "execution_count": null,
   "metadata": {},
   "outputs": [],
   "source": [
    "import numpy as np\n",
    "# Hamiltonian matrix in MO basis:\n",
    "Hij = np.zeros((7,7))\n",
    "MOlist = [\n",
    "        \"s\", # A_'_1 @ 1^th A_'_1\n",
    "        \"px\", # E_'->A_1 @ 1^th E_'\n",
    "        \"py\", # E_'->B_2 @ 1^th E_'\n",
    "        \"pz\", # A_''_2 @ 1^th A_''_2\n",
    "        \"s_s\", # A_'_1 @ 2^th A_'_1\n",
    "        \"s_px\", # E_'->A_1 @ 2^th E_'\n",
    "        \"s_py\" # E_'->B_2 @ 2^th E_'\n",
    "    ]\n",
    "\n",
    "interactions = {\n",
    "        \"s s\": -25,\n",
    "        \"px px\": -13,\n",
    "        \"py py\": -13,\n",
    "        \"pz pz\": -13,\n",
    "        \"s_s s_s\": -14,\n",
    "        \"s_px s_px\": -12,\n",
    "        \"s_py s_py\": -12,\n",
    "        \"s s_s\": 3.0,\n",
    "        \"s_s s\": 3.0,\n",
    "        \"px s_px\": 4.0,\n",
    "        \"s_px px\": 4.0,\n",
    "        \"py s_py\": 4.0,\n",
    "        \"s_py py\": 4.0\n",
    "    }\n",
    "\n",
    "for i,mo1 in enumerate(MOlist):\n",
    "    for j,mo2 in enumerate(MOlist):\n",
    "        Hij[i,j] = interactions.setdefault(\" \".join([mo1,mo2]),0)\n",
    "\n",
    "print(\"The Molecular Hamiltonian in MO basis is:\")\n",
    "print(Hij)\n",
    "w, v = np.linalg.eig(Hij)\n",
    "print()\n",
    "print(\"Solved eigenvalues are:\")\n",
    "\n",
    "start = 0\n",
    "sortedW = sorted(w)\n",
    "while start + 3 <= len(w):\n",
    "    print(f\"{sortedW[start]:>8.2f}{sortedW[start+1]:>8.2f}{sortedW[start+2]:>8.2f}\")\n",
    "    start += 3\n",
    "    "
   ]
  },
  {
   "cell_type": "code",
   "execution_count": null,
   "metadata": {},
   "outputs": [],
   "source": [
    "from automaticTB.plotting import DensityCubePlot\n",
    "\n",
    "print(\"Plot Symmetry adopted Linear Combinations\")\n",
    "for nlc in named_lcs:\n",
    "    plot = DensityCubePlot.from_linearcombinations([nlc.lc], quality=\"high\")\n",
    "    plot.plot_to_file(f\"{str(nlc.name)}.cube\")"
   ]
  }
 ],
 "metadata": {
  "interpreter": {
   "hash": "88a9e8395f0f0fd1451bd78b9af03df8d3805846dd70fd93cef660c5127693da"
  },
  "kernelspec": {
   "display_name": "Python 3.8.5 ('pymat')",
   "language": "python",
   "name": "python3"
  },
  "language_info": {
   "codemirror_mode": {
    "name": "ipython",
    "version": 3
   },
   "file_extension": ".py",
   "mimetype": "text/x-python",
   "name": "python",
   "nbconvert_exporter": "python",
   "pygments_lexer": "ipython3",
   "version": "3.8.5"
  },
  "orig_nbformat": 4
 },
 "nbformat": 4,
 "nbformat_minor": 2
}

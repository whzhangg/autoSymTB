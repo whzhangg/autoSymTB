{
 "cells": [
  {
   "cell_type": "markdown",
   "metadata": {},
   "source": [
    "## Example Bulk Si sp3s\n",
    "### Symmetry adapted linear combinations\n",
    "This example is essentially the same as the example of bulk silicon sp3 but include one additional orbitals, the higher 3s orbital, which is often included in the tight-binding parameterization of Si. \n",
    "\n",
    "Compare to the previous example ($3\\times A_1$, $E (2-fold)$, $T_1 (3-fold)$, $4 \\times T_2 (3-fold)$), the 4 additional $3s$ orbital form $2\\times A_1$ and $T_2$. "
   ]
  },
  {
   "cell_type": "code",
   "execution_count": 1,
   "metadata": {},
   "outputs": [
    {
     "name": "stdout",
     "output_type": "stream",
     "text": [
      " 1 > Pair: Si-01     3px -> Si-00     3px r = (  1.36, -1.36, -1.36)\n",
      " 2 > Pair: Si-01      3s -> Si-00     3px r = (  1.36, -1.36, -1.36)\n",
      " 3 > Pair: Si-01     3px -> Si-00      4s r = (  1.36, -1.36, -1.36)\n",
      " 4 > Pair: Si-01      4s -> Si-00      4s r = (  1.36, -1.36, -1.36)\n",
      " 5 > Pair: Si-01      3s -> Si-00      4s r = (  1.36, -1.36, -1.36)\n",
      " 6 > Pair: Si-01      4s -> Si-00      3s r = (  1.36, -1.36, -1.36)\n",
      " 7 > Pair: Si-01     3px -> Si-01     3px r = (  0.00,  0.00,  0.00)\n",
      " 8 > Pair: Si-01      4s -> Si-01      4s r = (  0.00,  0.00,  0.00)\n",
      " 9 > Pair: Si-01     3px -> Si-00      3s r = (  1.36, -1.36, -1.36)\n",
      "10 > Pair: Si-01      4s -> Si-00     3px r = (  1.36, -1.36, -1.36)\n",
      "11 > Pair: Si-01     3px -> Si-00     3pz r = (  1.36, -1.36, -1.36)\n",
      "12 > Pair: Si-01      3s -> Si-00      3s r = (  1.36, -1.36, -1.36)\n",
      "13 > Pair: Si-01      3s -> Si-01      3s r = (  0.00,  0.00,  0.00)\n"
     ]
    }
   ],
   "source": [
    "from automaticTB.examples import get_cif_filename_for\n",
    "from automaticTB.solve import (\n",
    "    get_structure_from_cif_file, get_EquationSystem_from_Structure\n",
    ")\n",
    "\n",
    "bulksi = get_structure_from_cif_file(\n",
    "    get_cif_filename_for(\"Si\"), {\"Si\":\"3s3p4s\"}\n",
    ")\n",
    "\n",
    "combined_equation = get_EquationSystem_from_Structure(bulksi, find_additional_symmetry=False)\n",
    "\n",
    "free_ao = combined_equation.free_AOpairs\n",
    "for i, free in enumerate(free_ao):\n",
    "    print(f\"{i+1:>2d}\" + str(free))"
   ]
  },
  {
   "cell_type": "markdown",
   "metadata": {},
   "source": [
    "## Save\n",
    "Now we can save the result to a file"
   ]
  },
  {
   "cell_type": "code",
   "execution_count": 3,
   "metadata": {},
   "outputs": [
    {
     "name": "stdout",
     "output_type": "stream",
     "text": [
      "Result is written to file Si_NN_relationship.dat\n"
     ]
    }
   ],
   "source": [
    "filename = \"Si_NN_relationship.dat\"\n",
    "\n",
    "from automaticTB.interface import OrbitalPropertyRelationship\n",
    "relationship = OrbitalPropertyRelationship.from_structure_combinedInteraction(\n",
    "    bulksi, combined_equation\n",
    ")\n",
    "\n",
    "relationship.to_file(filename)\n",
    "print(f\"Result is written to file {filename}\")"
   ]
  }
 ],
 "metadata": {
  "interpreter": {
   "hash": "e8f1bdd73f2afe351e4765257bb7586be294b7994e57208a8f91478197f1d44e"
  },
  "kernelspec": {
   "display_name": "Python 3.8.13 ('autoTB')",
   "language": "python",
   "name": "python3"
  },
  "language_info": {
   "codemirror_mode": {
    "name": "ipython",
    "version": 3
   },
   "file_extension": ".py",
   "mimetype": "text/x-python",
   "name": "python",
   "nbconvert_exporter": "python",
   "pygments_lexer": "ipython3",
   "version": "3.8.13"
  },
  "orig_nbformat": 4
 },
 "nbformat": 4,
 "nbformat_minor": 2
}

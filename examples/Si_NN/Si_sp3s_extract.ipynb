{
 "cells": [
  {
   "cell_type": "markdown",
   "metadata": {},
   "source": [
    "### Free values of interaction\n",
    "There we call the function that will give us the global independent parameter\n",
    "```python\n",
    "get_combined_equation_from_structure\n",
    "```\n",
    "from its result, we can obtain all the free independent interaction parameter in the structure. After these interaction are determined, we can supply values to these parameters. Here the values are taken from the paper of Klimeck et al. 2000 (NN VB) model. Notice that when suppling the value, we should notice the difference between the transition. In Klimeck's paper, the states on the right are positioned at (a/2, a/2, a/2) but here the state on the right are positioned at (a/2, -a/2, -a/2). It is also important to notice that the definition of the parameter in the paper is V = 4 Hij. For example: $V(s,s) = 4\\langle saR | H | scR \\rangle$. Therefore, it is necessary to divide by 4 for the interaction parameter.\n",
    "\n",
    "Finally, we plot the band structure. it can be seem that the valence band agree in general very well with the Si band structure, while the conduction band deviate slight more. Dispersion along K-G is also problematic along the conduction band, so is the energy at K point for the valence band."
   ]
  },
  {
   "cell_type": "code",
   "execution_count": null,
   "metadata": {},
   "outputs": [],
   "source": [
    "from automaticTB.interface import OrbitalPropertyRelationship\n",
    "import numpy as np\n",
    "\n",
    "\n",
    "cubic_band = [\n",
    "    \"L   0.5   0.5  0.5  G  0.0   0.0  0.0\",\n",
    "    \"G   0.0   0.0  0.0  X  0.5   0.0  0.5\",\n",
    "    \"X   0.5   0.0  0.5  U  0.625 0.25 0.625\",\n",
    "    \"K 0.375 0.375 0.75  G  0.0   0.0  0.0\"\n",
    "]\n",
    "\n",
    "filename = \"Si_NN_relationship.dat\"\n",
    "relationship = OrbitalPropertyRelationship.from_file(filename)\n",
    "relationship.print_free_pairs()"
   ]
  },
  {
   "cell_type": "code",
   "execution_count": null,
   "metadata": {},
   "outputs": [],
   "source": [
    "VB_values = np.array([\n",
    "    -3.31790, # 1 > Pair: Si-01      3s -> Si-01      3s r = (  0.00,  0.00,  0.00)\n",
    "     1.67862, # 2 > Pair: Si-01     3px -> Si-01     3px r = (  0.00,  0.00,  0.00)\n",
    "     8.23164, # 3 > Pair: Si-01      4s -> Si-01      4s r = (  0.00,  0.00,  0.00)\n",
    "    -9.5990/4,# 4 > Pair: Si-01      3s -> Si-00      3s r = (  1.36, -1.36, -1.36)\n",
    "     7.1423/4,# 5 > Pair: Si-01      3s -> Si-00     3px r = (  1.36, -1.36, -1.36)\n",
    "     0.00000, # 6 > Pair: Si-01      3s -> Si-00      4s r = (  1.36, -1.36, -1.36)\n",
    "    -7.1423/4,# 7 > Pair: Si-01     3px -> Si-00      3s r = (  1.36, -1.36, -1.36)\n",
    "    -4.7757/4,# 8 > Pair: Si-01     3px -> Si-00     3pz r = (  1.36, -1.36, -1.36)\n",
    "     1.6955/4,# 9 > Pair: Si-01     3px -> Si-00     3px r = (  1.36, -1.36, -1.36)\n",
    "    -7.2505/4,#10 > Pair: Si-01     3px -> Si-00      4s r = (  1.36, -1.36, -1.36)\n",
    "     0.00000, #11 > Pair: Si-01      4s -> Si-00      3s r = (  1.36, -1.36, -1.36)\n",
    "     7.2505/4,#12 > Pair: Si-01      4s -> Si-00     3px r = (  1.36, -1.36, -1.36)\n",
    "     0.00000, #13 > Pair: Si-01      4s -> Si-00      4s r = (  1.36, -1.36, -1.36)\n",
    "])\n",
    "\n",
    "\n",
    "VBmodel = relationship.get_ElectronicModel_from_free_parameters(VB_values)\n",
    "\n",
    "VBmodel.plot_bandstructure(\n",
    "    prefix = \"Si_NN_VB\",\n",
    "    kpaths_str=  cubic_band\n",
    ")"
   ]
  },
  {
   "cell_type": "code",
   "execution_count": null,
   "metadata": {},
   "outputs": [],
   "source": [
    "\n",
    "CB_values = np.array([\n",
    "    -3.65860, # 1 > Pair: Si-01      3s -> Si-01      3s r = (  0.00,  0.00,  0.00)\n",
    "     1.67889, # 2 > Pair: Si-01     3px -> Si-01     3px r = (  0.00,  0.00,  0.00)\n",
    "     3.87567, # 3 > Pair: Si-01      4s -> Si-01      4s r = (  0.00,  0.00,  0.00)\n",
    "    -7.9714/4,# 4 > Pair: Si-01      3s -> Si-00      3s r = (  1.36, -1.36, -1.36)\n",
    "     8.8747/4,# 5 > Pair: Si-01      3s -> Si-00     3px r = (  1.36, -1.36, -1.36)\n",
    "     0.00000, # 6 > Pair: Si-01      3s -> Si-00      4s r = (  1.36, -1.36, -1.36)\n",
    "    -8.8747/4,# 7 > Pair: Si-01     3px -> Si-00      3s r = (  1.36, -1.36, -1.36)\n",
    "    -23.324/4,# 8 > Pair: Si-01     3px -> Si-00     3pz r = (  1.36, -1.36, -1.36)\n",
    "     1.6955/4,# 9 > Pair: Si-01     3px -> Si-00     3px r = (  1.36, -1.36, -1.36)\n",
    "    -5.4117/4,#10 > Pair: Si-01     3px -> Si-00      4s r = (  1.36, -1.36, -1.36)\n",
    "     0.00000, #11 > Pair: Si-01      4s -> Si-00      3s r = (  1.36, -1.36, -1.36)\n",
    "     5.4117/4,#12 > Pair: Si-01      4s -> Si-00     3px r = (  1.36, -1.36, -1.36)\n",
    "     0.00000, #13 > Pair: Si-01      4s -> Si-00      4s r = (  1.36, -1.36, -1.36)\n",
    "])\n",
    "\n",
    "CBmodel = relationship.get_ElectronicModel_from_free_parameters(CB_values)\n",
    "\n",
    "CBmodel.plot_bandstructure(\n",
    "    prefix = \"Si_NN_CB\",\n",
    "    kpaths_str=  cubic_band\n",
    ")\n"
   ]
  }
 ],
 "metadata": {
  "interpreter": {
   "hash": "e8f1bdd73f2afe351e4765257bb7586be294b7994e57208a8f91478197f1d44e"
  },
  "kernelspec": {
   "display_name": "Python 3.8.13 ('autoTB')",
   "language": "python",
   "name": "python3"
  },
  "language_info": {
   "codemirror_mode": {
    "name": "ipython",
    "version": 3
   },
   "file_extension": ".py",
   "mimetype": "text/x-python",
   "name": "python",
   "nbconvert_exporter": "python",
   "pygments_lexer": "ipython3",
   "version": "3.8.13"
  },
  "orig_nbformat": 4
 },
 "nbformat": 4,
 "nbformat_minor": 2
}

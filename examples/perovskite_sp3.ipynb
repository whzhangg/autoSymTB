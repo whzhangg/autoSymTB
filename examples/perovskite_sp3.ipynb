{
 "cells": [
  {
   "cell_type": "code",
   "execution_count": null,
   "metadata": {},
   "outputs": [],
   "source": [
    "import typing\n",
    "from automaticTB.examples.structures import get_perovskite_structure\n",
    "from automaticTB.interaction import InteractionEquation\n",
    "from automaticTB.printing import print_ao_pairs\n",
    "from automaticTB.functions import (\n",
    "    get_namedLCs_from_nncluster, \n",
    "    get_free_AOpairs_from_nncluster_and_namedLCs\n",
    ")\n",
    "\n",
    "structure = get_perovskite_structure()\n",
    "print(\"Solving for the free nearest neighbor interaction in Perovskite\")\n",
    "print(\"Starting ...\")\n",
    "\n",
    "equation_systems: typing.List[InteractionEquation] = []\n",
    "\n",
    "for i, nncluster in enumerate(structure.nnclusters):\n",
    "    print(\"Cluster centered on \" + str(nncluster.crystalsites[nncluster.origin_index]))\n",
    "    print(nncluster.sitesymmetrygroup.groupname)\n",
    "\n",
    "    named_lcs = get_namedLCs_from_nncluster(nncluster)\n",
    "    #for nlc in named_lcs:\n",
    "    #    print(f\"\\\"{nlc.name}\\\",\")\n",
    "    #    print(nlc.lc)\n",
    "    free_pairs = get_free_AOpairs_from_nncluster_and_namedLCs(nncluster, named_lcs)\n",
    "    print(\"Solve Interaction ...\")\n",
    "    equation = InteractionEquation.from_nncluster_namedLC(nncluster, named_lcs)\n",
    "\n",
    "    print_ao_pairs(structure, equation.free_AOpairs)\n",
    "    equation_systems.append(equation)\n"
   ]
  },
  {
   "cell_type": "code",
   "execution_count": null,
   "metadata": {},
   "outputs": [],
   "source": [
    "from automaticTB.interaction import CombinedInteractionEquation\n",
    "from automaticTB.tightbinding import TightBindingModel, gather_InteractionPairs_into_HijRs\n",
    "from automaticTB.examples.Perovskite.ao_interaction import get_interaction_values_from_list_AOpairs\n",
    "from automaticTB.printing import print_ao_pairs\n",
    "import numpy as np\n",
    "\n",
    "combined_equation = CombinedInteractionEquation(equation_systems)\n",
    "print_ao_pairs(structure, combined_equation.free_AOpairs)\n",
    "\n",
    "hvalues = np.array([\n",
    "    -13.21,    #1 > Free AO interaction: Cl 3s -> Cl 3s @ (  0.00,  0.00,  0.00)\n",
    "     -9.21,    #2 > Free AO interaction: Pb 6s -> Pb 6s @ (  0.00,  0.00,  0.00)\n",
    "     -2.16,    #3 > Free AO interaction: Cl 3py -> Cl 3py @ (  0.00,  0.00,  0.00)\n",
    "      2.39,    #4 > Free AO interaction: Pb 6py -> Pb 6py @ (  0.00,  0.00,  0.00)\n",
    "     -1.1,     #5 > Free AO interaction: Cl 3s -> Pb 6s @ (  0.00,  0.00,  5.18)\n",
    "     -0.6,     #6 > Free AO interaction: Cl 3s -> Pb 6pz @ (  0.00,  0.00,  5.18) p0s1\n",
    "     -1.25,    #7 > Free AO interaction: Cl 3pz -> Pb 6s @ (  0.00,  0.00,  5.18) s0p1\n",
    "     -3.5,     #8 > Free AO interaction: Cl 3pz -> Pb 6pz @ (  0.00,  0.00,  5.18)\n",
    "      0.8,     #9 > Free AO interaction: Cl 3px -> Pb 6px @ (  0.00,  0.00,  5.18)\n",
    "])\n",
    "hvalues_ref = np.array(\n",
    "    get_interaction_values_from_list_AOpairs(\n",
    "        structure.cell, structure.positions, combined_equation.free_AOpairs\n",
    "    )\n",
    ")\n",
    "assert np.allclose(hvalues, hvalues_ref) # ao interaction is correct\n",
    "\n",
    "solved_interaction = combined_equation.solve_interactions_to_InteractionPairs(hvalues)\n",
    "\n",
    "hijRs = gather_InteractionPairs_into_HijRs(solved_interaction)\n",
    "perovskiet_TBmodel = TightBindingModel(\n",
    "    structure.cell, structure.positions, structure.types, hijRs\n",
    ")\n",
    "\n"
   ]
  },
  {
   "cell_type": "code",
   "execution_count": null,
   "metadata": {},
   "outputs": [],
   "source": [
    "from automaticTB.examples.kpaths import cubic_kpath\n",
    "from automaticTB.properties.bandstructure import BandStructureResult\n",
    "import os\n",
    "\n",
    "filename = \"HalidePerovskite.pdf\"\n",
    "\n",
    "print(\"Plot the bandstructure\")\n",
    "band_result = BandStructureResult.from_tightbinding_and_kpath(perovskiet_TBmodel, cubic_kpath)\n",
    "band_result.plot_data(filename)\n",
    "\n",
    "os.system(f\"rm {filename}\") # delete the temporary file"
   ]
  }
 ],
 "metadata": {
  "interpreter": {
   "hash": "88a9e8395f0f0fd1451bd78b9af03df8d3805846dd70fd93cef660c5127693da"
  },
  "kernelspec": {
   "display_name": "Python 3.8.5 ('pymat')",
   "language": "python",
   "name": "python3"
  },
  "language_info": {
   "codemirror_mode": {
    "name": "ipython",
    "version": 3
   },
   "file_extension": ".py",
   "mimetype": "text/x-python",
   "name": "python",
   "nbconvert_exporter": "python",
   "pygments_lexer": "ipython3",
   "version": "3.8.13"
  },
  "orig_nbformat": 4
 },
 "nbformat": 4,
 "nbformat_minor": 2
}

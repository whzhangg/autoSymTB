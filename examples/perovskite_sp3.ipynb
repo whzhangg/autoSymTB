{
 "cells": [
  {
   "cell_type": "code",
   "execution_count": null,
   "metadata": {},
   "outputs": [],
   "source": [
    "import typing\n",
    "from automaticTB.examples.structures import get_perovskite_structure\n",
    "from automaticTB.interaction import InteractionEquation\n",
    "from automaticTB.atomic_orbitals import AO\n",
    "from automaticTB.printing import print_ao_pairs, print_matrix, print_InteractionPairs\n",
    "from automaticTB.examples.Perovskite.ao_interaction import (\n",
    "    get_interaction_values_from_list_AOpairs, get_overlap_values_from_list_AOpairs\n",
    ")\n",
    "\n",
    "from automaticTB.functions import (\n",
    "    get_namedLCs_from_nncluster, \n",
    "    get_free_AOpairs_from_nncluster_and_namedLCs\n",
    ")\n",
    "\n",
    "structure = get_perovskite_structure()\n",
    "print(\"Solving for the free nearest neighbor interaction in Perovskite\")\n",
    "print(\"Starting ...\")\n",
    "\n",
    "equation_systems: typing.List[InteractionEquation] = []\n",
    "\n",
    "for i, nncluster in enumerate(structure.nnclusters):\n",
    "    print(\"Cluster centered on \" + str(nncluster.crystalsites[nncluster.origin_index]))\n",
    "    print(nncluster.sitesymmetrygroup.groupname)\n",
    "\n",
    "    named_lcs = get_namedLCs_from_nncluster(nncluster)\n",
    "    for nlc in named_lcs:\n",
    "        print(f\"\\\"{nlc.name}\\\",\")\n",
    "    #    print(nlc.lc)\n",
    "    free_pairs = get_free_AOpairs_from_nncluster_and_namedLCs(nncluster, named_lcs)\n",
    "    print(\"Solve Interaction ...\")\n",
    "    equation = InteractionEquation.from_nncluster_namedLC(nncluster, named_lcs)\n",
    "\n",
    "    print_ao_pairs(nncluster, equation.free_AOpairs)\n",
    "    equation_systems.append(equation)\n"
   ]
  },
  {
   "cell_type": "code",
   "execution_count": null,
   "metadata": {},
   "outputs": [],
   "source": [
    "from automaticTB.interaction import CombinedInteractionEquation\n",
    "\n",
    "combined_equation = CombinedInteractionEquation(equation_systems)\n",
    "for i, aopair in enumerate(combined_equation.free_AOpairs):\n",
    "    print(f\"Free pair {i+1}\")\n",
    "    print(aopair)"
   ]
  },
  {
   "cell_type": "code",
   "execution_count": null,
   "metadata": {},
   "outputs": [],
   "source": [
    "from automaticTB.interaction import InteractionPairs\n",
    "from automaticTB.tightbinding import TightBindingModel, gather_InteractionPairs_into_HijRs, gather_InteractionPairs_into_SijRs\n",
    "\n",
    "all_interaction_pairs: typing.List[InteractionPairs] = []\n",
    "all_overlaps_pairs: typing.List[InteractionPairs] = []\n",
    "\n",
    "# we build the Hamiltonian and Overlap matrix\n",
    "for equation in equation_systems:\n",
    "    free_pairs = equation.free_AOpairs\n",
    "        \n",
    "    hamiltonian_values = get_interaction_values_from_list_AOpairs(structure.cell, structure.positions, free_pairs)\n",
    "    overlap_values = get_overlap_values_from_list_AOpairs(free_pairs)\n",
    "\n",
    "    cluster_interactions = equation.solve_interactions_to_InteractionPairs(hamiltonian_values)\n",
    "    cluster_overlap = equation.solve_interactions_to_InteractionPairs(overlap_values)\n",
    "\n",
    "    all_interaction_pairs.append(cluster_interactions)\n",
    "    all_overlaps_pairs.append(cluster_overlap)\n",
    "\n",
    "hijRs = gather_InteractionPairs_into_HijRs(all_interaction_pairs)\n",
    "SijRs = gather_InteractionPairs_into_SijRs(all_overlaps_pairs)\n",
    "\n",
    "perovskiet_TBmodel = TightBindingModel(structure.cell, structure.positions, structure.types, hijRs, SijRs)"
   ]
  },
  {
   "cell_type": "code",
   "execution_count": null,
   "metadata": {},
   "outputs": [],
   "source": [
    "from automaticTB.examples.kpaths import cubic_kpath\n",
    "from automaticTB.properties.bandstructure import BandStructureResult\n",
    "import os\n",
    "\n",
    "filename = \"HalidePerovskite.pdf\"\n",
    "\n",
    "print(\"Plot the bandstructure\")\n",
    "band_result = BandStructureResult.from_tightbinding_and_kpath(perovskiet_TBmodel, cubic_kpath)\n",
    "band_result.plot_data(filename)\n",
    "\n",
    "os.system(f\"rm {filename}\") # delete the temporary file"
   ]
  },
  {
   "cell_type": "code",
   "execution_count": null,
   "metadata": {},
   "outputs": [],
   "source": [
    "from automaticTB.properties.dos import get_tetrados_result\n",
    "import numpy as np\n",
    "\n",
    "tetrados = get_tetrados_result(perovskiet_TBmodel, ngrid=np.array([10,10,10]))\n",
    "tetrados.plot_data(filename)\n",
    "os.system(f\"rm {filename}\")"
   ]
  }
 ],
 "metadata": {
  "interpreter": {
   "hash": "88a9e8395f0f0fd1451bd78b9af03df8d3805846dd70fd93cef660c5127693da"
  },
  "kernelspec": {
   "display_name": "Python 3.8.5 ('pymat')",
   "language": "python",
   "name": "python3"
  },
  "language_info": {
   "codemirror_mode": {
    "name": "ipython",
    "version": 3
   },
   "file_extension": ".py",
   "mimetype": "text/x-python",
   "name": "python",
   "nbconvert_exporter": "python",
   "pygments_lexer": "ipython3",
   "version": "3.8.13"
  },
  "orig_nbformat": 4
 },
 "nbformat": 4,
 "nbformat_minor": 2
}

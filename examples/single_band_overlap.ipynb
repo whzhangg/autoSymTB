{
 "cells": [
  {
   "cell_type": "code",
   "execution_count": null,
   "metadata": {},
   "outputs": [],
   "source": [
    "%matplotlib inline\n",
    "\n",
    "import numpy as np\n",
    "from automaticTB.tightbinding.models import SingleBand_TB\n",
    "from automaticTB.properties.bandstructure import BandStructureResult\n",
    "import matplotlib.pyplot as plt\n",
    "from automaticTB.examples.kpaths import cubic_kpath\n",
    "\n",
    "testfilename = \"result_singleband_with_overlap.pdf\"\n",
    "overlaps = [0, 0.02, 0.04, 0.06, 0.08, 0.1]\n",
    "Es = []\n",
    "for overlap in overlaps:\n",
    "    SingleBand_TB.overlap = overlap\n",
    "    tb = SingleBand_TB()\n",
    "    band_result = BandStructureResult.from_tightbinding_and_kpath(tb, cubic_kpath)\n",
    "    x = band_result.x\n",
    "    Es.append(band_result.E)\n",
    "    ticks = band_result.ticks\n",
    "    \n",
    "fig = plt.figure()\n",
    "axes = fig.subplots()\n",
    "\n",
    "axes.set_title(\"Single Band Dispersion with Different Overlaps\")\n",
    "axes.set_ylabel(\"Energy (eV)\")\n",
    "ymin = np.min(Es)\n",
    "ymax = np.max(Es)\n",
    "ymin = ymin - (ymax - ymin) * 0.05\n",
    "ymax = ymax + (ymax - ymin) * 0.05\n",
    "\n",
    "axes.set_xlim(min(x), max(x))\n",
    "axes.set_ylim(ymin, ymax)\n",
    "\n",
    "for overlap, E in zip(overlaps, Es):\n",
    "    axes.plot(x, E, label = str(overlap))\n",
    "for tick in ticks:\n",
    "    x = tick.xpos\n",
    "    axes.plot([x,x], [ymin,ymax], color='gray')\n",
    "\n",
    "tick_x = [ tick.xpos for tick in ticks ]\n",
    "tick_s = [ tick.symbol for tick in ticks ]\n",
    "axes.xaxis.set_major_locator(plt.FixedLocator(tick_x))\n",
    "axes.xaxis.set_major_formatter(plt.FixedFormatter(tick_s))\n",
    "axes.legend()\n",
    "\n",
    "print(\"The result of the band structure of a single band tight-binding model with different overlap strength: \")\n",
    "print(\"     S = alpha * H\")\n",
    "print(\"where H and S are Hamiltonian and Overlap matrix, alpha controls the overlap strength.\")\n",
    "print(\"alpha = 0 means no overlap\")\n",
    "print(\"It is clear that antibonding states become more anti-bonding with increasing overlap matrix\")\n",
    "# fig.savefig(testfilename)"
   ]
  }
 ],
 "metadata": {
  "interpreter": {
   "hash": "88a9e8395f0f0fd1451bd78b9af03df8d3805846dd70fd93cef660c5127693da"
  },
  "kernelspec": {
   "display_name": "Python 3.8.5 ('pymat')",
   "language": "python",
   "name": "python3"
  },
  "language_info": {
   "codemirror_mode": {
    "name": "ipython",
    "version": 3
   },
   "file_extension": ".py",
   "mimetype": "text/x-python",
   "name": "python",
   "nbconvert_exporter": "python",
   "pygments_lexer": "ipython3",
   "version": "3.8.5"
  },
  "orig_nbformat": 4
 },
 "nbformat": 4,
 "nbformat_minor": 2
}

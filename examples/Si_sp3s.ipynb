{
 "cells": [
  {
   "cell_type": "markdown",
   "metadata": {},
   "source": [
    "## Example Bulk Si sp3s\n",
    "### Symmetry adapted linear combinations\n",
    "This example is essentially the same as the example of bulk silicon sp3 but include one additional orbitals, the higher 3s orbital, which is often included in the tight-binding parameterization of Si. \n",
    "\n",
    "Compare to the previous example ($3\\times A_1$, $E (2-fold)$, $T_1 (3-fold)$, $4 \\times T_2 (3-fold)$), the 4 additional $3s$ orbital form $2\\times A_1$ and $T_2$. "
   ]
  },
  {
   "cell_type": "code",
   "execution_count": null,
   "metadata": {},
   "outputs": [],
   "source": [
    "from automaticTB.examples import get_Si_structure_2s2p3s\n",
    "from automaticTB.functions import get_namedLCs_from_nncluster\n",
    "import numpy as np\n",
    "\n",
    "bulksi = get_Si_structure_2s2p3s()\n",
    "si_environment = bulksi.nnclusters[0]\n",
    "named_lcs = get_namedLCs_from_nncluster(si_environment)\n",
    "for nlc in named_lcs:\n",
    "    print(f\"\\\"{nlc.name}\\\"\")"
   ]
  },
  {
   "cell_type": "markdown",
   "metadata": {},
   "source": [
    "### Free values of interaction\n",
    "There we call the function that will give us the global independent parameter\n",
    "```python\n",
    "get_combined_equation_from_structure\n",
    "```\n",
    "from its result, we can obtain all the free independent interaction parameter in the structure. After these interaction are determined, we can supply values to these parameters. Here the values are taken from the paper of Klimeck et al. 2000 (NN VB) model. Notice that when suppling the value, we should notice the difference between the transition. In Klimeck's paper, the states on the right are positioned at (a/2, a/2, a/2) but here the state on the right are positioned at (a/2, -a/2, -a/2). It is also important to notice that the definition of the parameter in the paper is V = 4 Hij. For example: $V(s,s) = 4\\langle saR | H | scR \\rangle$. Therefore, it is necessary to divide by 4 for the interaction parameter.\n",
    "\n",
    "Finally, we plot the band structure. it can be seem that the valence band agree in general very well with the Si band structure, while the conduction band deviate slight more. Dispersion along K-G is also problematic along the conduction band, so is the energy at K point for the valence band."
   ]
  },
  {
   "cell_type": "code",
   "execution_count": null,
   "metadata": {},
   "outputs": [],
   "source": [
    "from automaticTB.functions import (\n",
    "    get_combined_equation_from_structure, \n",
    "    get_tbModel_from_structure_interactions_overlaps\n",
    ")\n",
    "from automaticTB.tightbinding import TightBindingModel\n",
    "from automaticTB.tools import find_RCL\n",
    "from automaticTB.properties import Kpath, Kline, BandStructureResult\n",
    "\n",
    "combined_equation = get_combined_equation_from_structure(bulksi)\n",
    "\n",
    "interaction_values = np.array([\n",
    "    8.23164,  #  1 > Si     3s -> Si     3s @ (  0.00,  0.00,  0.00) \n",
    "   -3.3179,   #  2 > Si     2s -> Si     2s @ (  0.00,  0.00,  0.00) \n",
    "    1.67862,  #  3 > Si    2py -> Si    2py @ (  0.00,  0.00,  0.00) \n",
    "    0,        #  4 > Si     3s -> Si     2s @ (  1.36, -1.36, -1.36) \n",
    "    7.2505/4, #  5 > Si     3s -> Si    2px @ (  1.36, -1.36, -1.36) \n",
    "   -9.5990/4, #  6 > Si     2s -> Si     2s @ (  1.36, -1.36, -1.36) \n",
    "    0,        #  7 > Si     3s -> Si     3s @ (  1.36, -1.36, -1.36) \n",
    "    7.1423/4, #  8 > Si     2s -> Si    2px @ (  1.36, -1.36, -1.36) \n",
    "    0,        #  9 > Si     2s -> Si     3s @ (  1.36, -1.36, -1.36) \n",
    "   -7.1423/4, # 10 > Si    2px -> Si     2s @ (  1.36, -1.36, -1.36) \n",
    "   -4.7757/4, # 11 > Si    2px -> Si    2pz @ (  1.36, -1.36, -1.36)\n",
    "    1.6955/4, # 12 > Si    2px -> Si    2px @ (  1.36, -1.36, -1.36) \n",
    "   -7.2505/4, # 13 > Si    2px -> Si     3s @ (  1.36, -1.36, -1.36)\n",
    "])\n",
    "# the divide by 4 is necessary because of the definition of V term, see P. Vogl et al. 1983 page 4, around equation 7)\n",
    "\n",
    "interaction_pairs = combined_equation.solve_interactions_to_InteractionPairs(interaction_values)\n",
    "model = get_tbModel_from_structure_interactions_overlaps(bulksi, interaction_pairs)\n",
    "\n",
    "\n",
    "rcl = find_RCL(bulksi.cell)\n",
    "path = Kpath(rcl, [\n",
    "        Kline(\"L\", np.array([0.5,0.5,0.5]), \"G\", np.array([0.0,0.0,0.0])),\n",
    "        Kline(\"G\", np.array([0.0,0.0,0.0]), \"X\", np.array([0.5,0.0,0.5])),\n",
    "        Kline(\"X\", np.array([0.5,0.0,0.5]), \"U\", np.array([5/8,1/4,5/8])),\n",
    "        Kline(\"K\", np.array([3/8,3/8,3/4]), \"G\", np.array([0.0,0.0,0.0]))\n",
    "    ]\n",
    ")\n",
    "# reference for DFT calculated band structure: \n",
    "# http://lampx.tugraz.at/~hadley/ss1/semiconductors/silicon_bandstructure.php\n",
    "bandresult = BandStructureResult.from_tightbinding_and_kpath(model, path)\n",
    "tmp_filename = \"Si_NN_VB.pdf\"\n",
    "bandresult.plot_data(tmp_filename)\n",
    "\n",
    "def print_energy(tbmodel: TightBindingModel, kpos):\n",
    "    kpos = np.array(kpos)\n",
    "    e, _ = tbmodel.solveE_at_k(kpos)\n",
    "    result = []\n",
    "    for ee in e:\n",
    "        result.append(f\"{ee:>10.5f}\")\n",
    "    print(\",\".join(result))\n",
    "\n",
    "print_energy(model, [0.5,0.5,0.5])\n",
    "print_energy(model, [0.0,0.0,0.0])\n",
    "print_energy(model, [0.5,0.0,0.5])\n",
    "print_energy(model, [3/8,3/8,3/4])"
   ]
  }
 ],
 "metadata": {
  "interpreter": {
   "hash": "88a9e8395f0f0fd1451bd78b9af03df8d3805846dd70fd93cef660c5127693da"
  },
  "kernelspec": {
   "display_name": "Python 3.8.5 ('pymat')",
   "language": "python",
   "name": "python3"
  },
  "language_info": {
   "codemirror_mode": {
    "name": "ipython",
    "version": 3
   },
   "file_extension": ".py",
   "mimetype": "text/x-python",
   "name": "python",
   "nbconvert_exporter": "python",
   "pygments_lexer": "ipython3",
   "version": "3.8.5"
  },
  "orig_nbformat": 4
 },
 "nbformat": 4,
 "nbformat_minor": 2
}

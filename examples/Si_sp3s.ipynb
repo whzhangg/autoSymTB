{
 "cells": [
  {
   "cell_type": "markdown",
   "metadata": {},
   "source": [
    "## Example Bulk Si sp3s\n",
    "### Symmetry adapted linear combinations\n",
    "This example is essentially the same as the example of bulk silicon sp3 but include one additional orbitals, the higher 3s orbital, which is often included in the tight-binding parameterization of Si. \n",
    "\n",
    "Compare to the previous example ($3\\times A_1$, $E (2-fold)$, $T_1 (3-fold)$, $4 \\times T_2 (3-fold)$), the 4 additional $3s$ orbital form $2\\times A_1$ and $T_2$. "
   ]
  },
  {
   "cell_type": "code",
   "execution_count": null,
   "metadata": {},
   "outputs": [],
   "source": [
    "from automaticTB.examples.structures import get_Si_structure_2s2p3s\n",
    "from automaticTB.functions import get_namedLCs_from_nncluster\n",
    "\n",
    "bulksi = get_Si_structure_2s2p3s()\n",
    "si_environment = bulksi.nnclusters[0]\n",
    "named_lcs = get_namedLCs_from_nncluster(si_environment)\n",
    "for nlc in named_lcs:\n",
    "    print(f\"\\\"{nlc.name}\\\"\")\n",
    "    #print(nlc.lc)"
   ]
  },
  {
   "cell_type": "markdown",
   "metadata": {},
   "source": [
    "### Free values of interaction\n",
    "Additional interaction is given when we increase the number of atomic orbitals related to the introduction of the $3s$ atomic orbitals."
   ]
  },
  {
   "cell_type": "code",
   "execution_count": null,
   "metadata": {},
   "outputs": [],
   "source": [
    "from automaticTB.functions import get_free_AOpairs_from_nncluster_and_namedLCs\n",
    "from automaticTB.printing import print_ao_pairs\n",
    "\n",
    "free_pairs = get_free_AOpairs_from_nncluster_and_namedLCs(si_environment, named_lcs)\n",
    "\n",
    "print_ao_pairs(\n",
    "    bulksi, free_pairs\n",
    ")"
   ]
  }
 ],
 "metadata": {
  "interpreter": {
   "hash": "88a9e8395f0f0fd1451bd78b9af03df8d3805846dd70fd93cef660c5127693da"
  },
  "kernelspec": {
   "display_name": "Python 3.8.5 ('pymat')",
   "language": "python",
   "name": "python3"
  },
  "language_info": {
   "codemirror_mode": {
    "name": "ipython",
    "version": 3
   },
   "file_extension": ".py",
   "mimetype": "text/x-python",
   "name": "python",
   "nbconvert_exporter": "python",
   "pygments_lexer": "ipython3",
   "version": "3.8.5"
  },
  "orig_nbformat": 4
 },
 "nbformat": 4,
 "nbformat_minor": 2
}

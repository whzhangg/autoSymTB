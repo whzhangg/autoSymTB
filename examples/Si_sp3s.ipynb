{
 "cells": [
  {
   "cell_type": "code",
   "execution_count": 1,
   "metadata": {},
   "outputs": [
    {
     "name": "stdout",
     "output_type": "stream",
     "text": [
      "Solve vectorspace ... \n",
      "Solve Interaction ...\n",
      "Free interaction parameters: \n",
      "  1 > Free AO interaction: Si 1px -> Si 1px @ (  0.00,  0.00,  0.00)\n",
      "  2 > Free AO interaction: Si 2s -> Si 1s @ (  0.00,  0.00,  0.00)\n",
      "  3 > Free AO interaction: Si 1s -> Si 1s @ (  1.36,  1.36, -1.36)\n",
      "  4 > Free AO interaction: Si 2s -> Si 2s @ (  0.00,  0.00,  0.00)\n",
      "  5 > Free AO interaction: Si 1s -> Si 1px @ (  1.36,  1.36, -1.36)\n",
      "  6 > Free AO interaction: Si 1s -> Si 2s @ (  1.36,  1.36, -1.36)\n",
      "  7 > Free AO interaction: Si 1s -> Si 1s @ (  0.00,  0.00,  0.00)\n",
      "  8 > Free AO interaction: Si 2s -> Si 1s @ (  1.36,  1.36, -1.36)\n",
      "  9 > Free AO interaction: Si 2s -> Si 1px @ (  1.36,  1.36, -1.36)\n",
      " 10 > Free AO interaction: Si 2s -> Si 2s @ (  1.36,  1.36, -1.36)\n",
      " 11 > Free AO interaction: Si 1s -> Si 2s @ (  0.00,  0.00,  0.00)\n",
      " 12 > Free AO interaction: Si 1px -> Si 1s @ (  1.36,  1.36, -1.36)\n",
      " 13 > Free AO interaction: Si 1px -> Si 1pz @ (  1.36,  1.36, -1.36)\n",
      " 14 > Free AO interaction: Si 1px -> Si 1px @ (  1.36,  1.36, -1.36)\n",
      " 15 > Free AO interaction: Si 1px -> Si 2s @ (  1.36,  1.36, -1.36)\n"
     ]
    }
   ],
   "source": [
    "from automaticTB.SALCs import VectorSpace\n",
    "from automaticTB.SALCs.stable_decompose import decompose_vectorspace_to_namedLC\n",
    "from automaticTB.interaction import get_free_interaction_AO, InteractionEquation\n",
    "from automaticTB.atomic_orbitals import AO\n",
    "from automaticTB.examples.structures import fcc_si\n",
    "from automaticTB.structure import Structure\n",
    "from automaticTB.printing import print_ao_pairs\n",
    "from automaticTB.tools import Pair\n",
    "\n",
    "c, p, t = fcc_si[\"cell\"], fcc_si[\"positions\"], fcc_si[\"types\"]\n",
    "structure = Structure.from_cpt_rcut(c,p,t, {\"Si\": [[1,0],[1,1],[2,0]]}, 3.0)  # now, we consider sp3s orbitals on Si\n",
    "\n",
    "Si_cluster = structure.nnclusters[0]\n",
    "vectorspace = VectorSpace.from_NNCluster(Si_cluster)\n",
    "print(\"Solve vectorspace ... \")\n",
    "named_lcs = decompose_vectorspace_to_namedLC(vectorspace, Si_cluster.sitesymmetrygroup)\n",
    "print(\"Solve Interaction ...\")\n",
    "\n",
    "system = InteractionEquation.from_nncluster_namedLC(Si_cluster, named_lcs)\n",
    "free_pairs = system.free_AOpairs\n",
    "    \n",
    "print_ao_pairs(Si_cluster, free_pairs)"
   ]
  }
 ],
 "metadata": {
  "interpreter": {
   "hash": "88a9e8395f0f0fd1451bd78b9af03df8d3805846dd70fd93cef660c5127693da"
  },
  "kernelspec": {
   "display_name": "Python 3.8.5 ('pymat')",
   "language": "python",
   "name": "python3"
  },
  "language_info": {
   "codemirror_mode": {
    "name": "ipython",
    "version": 3
   },
   "file_extension": ".py",
   "mimetype": "text/x-python",
   "name": "python",
   "nbconvert_exporter": "python",
   "pygments_lexer": "ipython3",
   "version": "3.8.5"
  },
  "orig_nbformat": 4
 },
 "nbformat": 4,
 "nbformat_minor": 2
}

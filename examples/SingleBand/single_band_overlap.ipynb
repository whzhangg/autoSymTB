{
 "cells": [
  {
   "cell_type": "markdown",
   "metadata": {},
   "source": [
    "### Single band overlap\n",
    "This script provide a test for the band structure plot functionality as well as the showing the importance of overlap on the final band structure: the overlap matrix change systematically the shape of the dispersion and effective mass at the band maximum points. \n",
    "\n",
    "In this script, the single orbital Hamiltonian is given two parameter, the energy of the atomic orbital itself ($a = 0$) and the overlap Hamiltonian ($b = -1.0$). The overlap matrix is changed using a small parameter $\\alpha$ which gives the value of the overlap. The positive value give positive overlap. The effect of this overlap is that the the bonding state at $\\Gamma$ become less bonding but antibonding state at $R$ point become much more antibonding, thus stabilizing the structure."
   ]
  },
  {
   "cell_type": "code",
   "execution_count": null,
   "metadata": {},
   "outputs": [],
   "source": [
    "import numpy as np\n",
    "from automaticTB.tightbinding.models import get_singleband_tightbinding_with_overlap\n",
    "from automaticTB.tightbinding import (\n",
    "    TightBindingModel, \n",
    "    gather_InteractionPairs_into_HijRs, gather_InteractionPairs_into_SijRs\n",
    ")\n",
    "from automaticTB.properties.bandstructure import BandStructureResult\n",
    "import matplotlib.pyplot as plt\n",
    "from automaticTB.examples import cubic_kpath\n",
    "\n",
    "testfilename = \"result_singleband_with_overlap.pdf\"\n",
    "overlaps = [0, 0.02, 0.04, 0.06, 0.08, 0.1]\n",
    "Es = []\n",
    "for overlap in overlaps:\n",
    "    tb = get_singleband_tightbinding_with_overlap(overlap)\n",
    "    \n",
    "    band_result = BandStructureResult.from_tightbinding_and_kpath(tb, cubic_kpath)\n",
    "    x = band_result.x\n",
    "    Es.append(band_result.E)\n",
    "    ticks = band_result.ticks\n",
    "    \n",
    "fig = plt.figure()\n",
    "axes = fig.subplots()\n",
    "\n",
    "axes.set_title(\"Single Band Dispersion with Different Overlaps\")\n",
    "axes.set_ylabel(\"Energy (eV)\")\n",
    "ymin = np.min(Es)\n",
    "ymax = np.max(Es)\n",
    "ymin = ymin - (ymax - ymin) * 0.05\n",
    "ymax = ymax + (ymax - ymin) * 0.05\n",
    "\n",
    "axes.set_xlim(min(x), max(x))\n",
    "axes.set_ylim(ymin, ymax)\n",
    "\n",
    "for overlap, E in zip(overlaps, Es):\n",
    "    axes.plot(x, E, label = str(overlap))\n",
    "for tick in ticks:\n",
    "    x = tick.xpos\n",
    "    axes.plot([x,x], [ymin,ymax], color='gray')\n",
    "\n",
    "tick_x = [ tick.xpos for tick in ticks ]\n",
    "tick_s = [ tick.symbol for tick in ticks ]\n",
    "axes.xaxis.set_major_locator(plt.FixedLocator(tick_x))\n",
    "axes.xaxis.set_major_formatter(plt.FixedFormatter(tick_s))\n",
    "axes.legend()\n",
    "\n",
    "print(\"alpha = 0 means no overlap\")\n",
    "print(\"It is clear that antibonding states become \\\n",
    "more anti-bonding with increasing overlap matrix\")"
   ]
  }
 ],
 "metadata": {
  "interpreter": {
   "hash": "88a9e8395f0f0fd1451bd78b9af03df8d3805846dd70fd93cef660c5127693da"
  },
  "kernelspec": {
   "display_name": "Python 3.8.5 ('pymat')",
   "language": "python",
   "name": "python3"
  },
  "language_info": {
   "codemirror_mode": {
    "name": "ipython",
    "version": 3
   },
   "file_extension": ".py",
   "mimetype": "text/x-python",
   "name": "python",
   "nbconvert_exporter": "python",
   "pygments_lexer": "ipython3",
   "version": "3.8.13"
  },
  "orig_nbformat": 4
 },
 "nbformat": 4,
 "nbformat_minor": 2
}

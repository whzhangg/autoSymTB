{
 "cells": [
  {
   "cell_type": "markdown",
   "metadata": {},
   "source": [
    "### Example Si sp3 free interaction\n",
    "In this example, we find the non-equivalent interaction between nearest neighbor atomic orbitals in bulk Si. The structure with atomic orbitals are initialized using:\n",
    "```python\n",
    "structure = Structure.from_cpt_rcut(c,p,t, {\"Si\": [[0,0],[0,1]]}, 3.0)\n",
    "```\n",
    "where the dictionary specifies that use Si $s$ and $p$ orbitals on the same shell. The first orbital index $n$ does not matter so we only set them to 0. Finally, we specified a radius cutoff of 3.0 A as the cutoff range of the interaction. \n",
    "\n",
    "In this example, we only consider a single cluster of Si, bonded tetrahedrally with 4 neighboring ones. we use this Si cluster to construct a vector space consist of all the atomic orbitals and we decompose them to obtained the linear combinations corresponding to different irreducible representations. This is given by the high level function\n",
    "```python\n",
    "named_lcs = decompose_vectorspace_to_namedLC(vectorspace, Si_cluster.sitesymmetrygroup)\n",
    "```\n",
    "\n",
    "Finally, the non-equivalent interactions that are not related by symmetry is solved using the method of linear equation system. The free pairs are printed at last."
   ]
  },
  {
   "cell_type": "code",
   "execution_count": null,
   "metadata": {},
   "outputs": [],
   "source": [
    "from automaticTB.SALCs import VectorSpace\n",
    "from automaticTB.SALCs.stable_decompose import decompose_vectorspace_to_namedLC\n",
    "from automaticTB.interaction import get_free_interaction_AO, InteractionEquation\n",
    "from automaticTB.atomic_orbitals import AO\n",
    "from automaticTB.examples.structures import fcc_si\n",
    "from automaticTB.structure import Structure\n",
    "from automaticTB.printing import print_ao_pairs\n",
    "from automaticTB.tools import Pair\n",
    "\n",
    "c, p, t = fcc_si[\"cell\"], fcc_si[\"positions\"], fcc_si[\"types\"]\n",
    "structure = Structure.from_cpt_rcut(c,p,t, {\"Si\": [[0,0],[0,1]]}, 3.0)  # we consider only sp3 orbitals on Si\n",
    "\n",
    "Si_cluster = structure.nnclusters[0]\n",
    "vectorspace = VectorSpace.from_NNCluster(Si_cluster)\n",
    "print(\"Solve vectorspace ... \")\n",
    "named_lcs = decompose_vectorspace_to_namedLC(vectorspace, Si_cluster.sitesymmetrygroup)\n",
    "print(\"Solve Interaction ...\")\n",
    "print(named_lcs[0])\n",
    "\n",
    "system = InteractionEquation.from_nncluster_namedLC(Si_cluster, named_lcs)\n",
    "free_pairs = system.free_AOpairs\n",
    "    \n",
    "print_ao_pairs(Si_cluster, free_pairs)"
   ]
  }
 ],
 "metadata": {
  "interpreter": {
   "hash": "88a9e8395f0f0fd1451bd78b9af03df8d3805846dd70fd93cef660c5127693da"
  },
  "kernelspec": {
   "display_name": "Python 3.8.5 ('pymat')",
   "language": "python",
   "name": "python3"
  },
  "language_info": {
   "codemirror_mode": {
    "name": "ipython",
    "version": 3
   },
   "file_extension": ".py",
   "mimetype": "text/x-python",
   "name": "python",
   "nbconvert_exporter": "python",
   "pygments_lexer": "ipython3",
   "version": "3.8.5"
  },
  "orig_nbformat": 4
 },
 "nbformat": 4,
 "nbformat_minor": 2
}

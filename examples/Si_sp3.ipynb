{
 "cells": [
  {
   "cell_type": "markdown",
   "metadata": {},
   "source": [
    "## Example Bulk Si sp3 \n",
    "### Symmetry adapted linear combinations\n",
    "In this example, we find the non-equivalent interaction between nearest neighbor atomic orbitals in bulk Si. The structure is defined `automaticTB.examples.structures.si`, with a nearest neighbor cutoff of 3A and Si $2s$ and $2p$ orbitals. \n",
    "\n",
    "Si atom is bonded tetrahedrally with 4 neighboring Si in this case, with $2s2p$ we have in total 20 atomic orbitals and thus 20 symmetry adapted molecular orbitals, which is composed of $3\\times A_1$, $E (2-fold)$, $T_1 (3-fold)$, $4 \\times T_2 (3-fold)$. To find these SALCs, we call the high level function `get_namedLCs_from_nncluster()`"
   ]
  },
  {
   "cell_type": "code",
   "execution_count": null,
   "metadata": {},
   "outputs": [],
   "source": [
    "from automaticTB.examples.structures import get_Si_structure_2s2p\n",
    "from automaticTB.functions import get_namedLCs_from_nncluster\n",
    "\n",
    "bulksi = get_Si_structure_2s2p()\n",
    "si_environment = bulksi.nnclusters[0]\n",
    "named_lcs = get_namedLCs_from_nncluster(si_environment)\n",
    "for nlc in named_lcs:\n",
    "    print(nlc.name)\n",
    "    print(nlc.lc)"
   ]
  },
  {
   "cell_type": "markdown",
   "metadata": {},
   "source": [
    "### Free values of interaction\n",
    "The following code produce the free orbital interactions for the nearest neighbor Si cluster in bulk silicon. Only 7 interaction is free. Two of them defines the energy of the Si $s$ and $p$ atomic orbitals and the rest defines the non-equivalent interaction between Si atom with its neigboring atom:\n",
    "- s-s interaction\n",
    "- s-p interaction\n",
    "- px-pz interaction\n",
    "- px-px interaction\n",
    "\n",
    "The interaction px-s and s-px have the same value, but this is due to the fact that the neighboring atom of Si is also Si, which is actually not know by the current method which does not care about the detail of the neighboring atom, only its orbitals, which means that if we change the neighboring atom from Si to Ge, the result will be the same, but in this case, interaction px-s and s-px are no longer the same."
   ]
  },
  {
   "cell_type": "code",
   "execution_count": null,
   "metadata": {},
   "outputs": [],
   "source": [
    "from automaticTB.functions import get_free_AOpairs_from_nncluster_and_namedLCs\n",
    "from automaticTB.printing import print_ao_pairs\n",
    "\n",
    "free_pairs = get_free_AOpairs_from_nncluster_and_namedLCs(si_environment, named_lcs)\n",
    "\n",
    "print_ao_pairs(\n",
    "    si_environment, free_pairs\n",
    ")"
   ]
  }
 ],
 "metadata": {
  "interpreter": {
   "hash": "88a9e8395f0f0fd1451bd78b9af03df8d3805846dd70fd93cef660c5127693da"
  },
  "kernelspec": {
   "display_name": "Python 3.8.5 ('pymat')",
   "language": "python",
   "name": "python3"
  },
  "language_info": {
   "codemirror_mode": {
    "name": "ipython",
    "version": 3
   },
   "file_extension": ".py",
   "mimetype": "text/x-python",
   "name": "python",
   "nbconvert_exporter": "python",
   "pygments_lexer": "ipython3",
   "version": "3.8.13"
  },
  "orig_nbformat": 4
 },
 "nbformat": 4,
 "nbformat_minor": 2
}

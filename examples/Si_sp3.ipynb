{
 "cells": [
  {
   "cell_type": "code",
   "execution_count": 6,
   "metadata": {},
   "outputs": [
    {
     "name": "stdout",
     "output_type": "stream",
     "text": [
      "Solve vectorspace ... \n",
      "Solve Interaction ...\n",
      "Free interaction parameters: \n",
      "  1 > Free AO interaction: Si 0px -> Si 0s @ (  1.36,  1.36, -1.36)\n",
      "  2 > Free AO interaction: Si 0px -> Si 0pz @ (  1.36,  1.36, -1.36)\n",
      "  3 > Free AO interaction: Si 0px -> Si 0px @ (  1.36,  1.36, -1.36)\n",
      "  4 > Free AO interaction: Si 0s -> Si 0s @ (  1.36,  1.36, -1.36)\n",
      "  5 > Free AO interaction: Si 0s -> Si 0px @ (  1.36,  1.36, -1.36)\n",
      "  6 > Free AO interaction: Si 0s -> Si 0s @ (  0.00,  0.00,  0.00)\n",
      "  7 > Free AO interaction: Si 0px -> Si 0px @ (  0.00,  0.00,  0.00)\n"
     ]
    }
   ],
   "source": [
    "from automaticTB.SALCs import VectorSpace\n",
    "from automaticTB.SALCs.stable_decompose import decompose_vectorspace_to_namedLC\n",
    "from automaticTB.interaction import get_free_interaction_AO, InteractionEquation\n",
    "from automaticTB.atomic_orbitals import AO\n",
    "from automaticTB.examples.structures import fcc_si\n",
    "from automaticTB.structure import Structure\n",
    "from automaticTB.printing import print_ao_pairs\n",
    "from automaticTB.tools import Pair\n",
    "\n",
    "c, p, t = fcc_si[\"cell\"], fcc_si[\"positions\"], fcc_si[\"types\"]\n",
    "structure = Structure.from_cpt_rcut(c,p,t, {\"Si\": [[0,0],[0,1]]}, 3.0)  # we consider only sp3 orbitals on Si\n",
    "\n",
    "Si_cluster = structure.nnclusters[0]\n",
    "vectorspace = VectorSpace.from_NNCluster(Si_cluster)\n",
    "print(\"Solve vectorspace ... \")\n",
    "named_lcs = decompose_vectorspace_to_namedLC(vectorspace, Si_cluster.sitesymmetrygroup)\n",
    "print(\"Solve Interaction ...\")\n",
    "\n",
    "system = InteractionEquation.from_nncluster_namedLC(Si_cluster, named_lcs)\n",
    "free_pairs = system.free_AOpairs\n",
    "    \n",
    "print_ao_pairs(Si_cluster, free_pairs)"
   ]
  }
 ],
 "metadata": {
  "interpreter": {
   "hash": "88a9e8395f0f0fd1451bd78b9af03df8d3805846dd70fd93cef660c5127693da"
  },
  "kernelspec": {
   "display_name": "Python 3.8.5 ('pymat')",
   "language": "python",
   "name": "python3"
  },
  "language_info": {
   "codemirror_mode": {
    "name": "ipython",
    "version": 3
   },
   "file_extension": ".py",
   "mimetype": "text/x-python",
   "name": "python",
   "nbconvert_exporter": "python",
   "pygments_lexer": "ipython3",
   "version": "3.8.5"
  },
  "orig_nbformat": 4
 },
 "nbformat": 4,
 "nbformat_minor": 2
}
